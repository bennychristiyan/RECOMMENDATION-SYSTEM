{
 "cells": [
  {
   "cell_type": "code",
   "execution_count": 1,
   "id": "982ebeae-e340-4a70-82eb-8b5348dff324",
   "metadata": {},
   "outputs": [
    {
     "name": "stderr",
     "output_type": "stream",
     "text": [
      "  % Total    % Received % Xferd  Average Speed   Time    Time     Time  Current\n",
      "                                 Dload  Upload   Total   Spent    Left  Speed\n",
      "\n",
      "  0     0    0     0    0     0      0      0 --:--:-- --:--:-- --:--:--     0\n",
      "  0     0    0     0    0     0      0      0 --:--:-- --:--:-- --:--:--     0\n",
      "  4  955k    4 44735    0     0  33498      0  0:00:29  0:00:01  0:00:28 33534\n",
      " 33  955k   33  317k    0     0   141k      0  0:00:06  0:00:02  0:00:04  141k\n",
      " 70  955k   70  671k    0     0   196k      0  0:00:04  0:00:03  0:00:01  196k\n",
      "100  955k  100  955k    0     0   230k      0  0:00:04  0:00:04 --:--:--  230k\n"
     ]
    }
   ],
   "source": [
    "! curl http://files.grouplens.org/datasets/movielens/ml-latest-small.zip -o ml-latest-small.zip"
   ]
  },
  {
   "cell_type": "code",
   "execution_count": 2,
   "id": "40d6f5be-7b38-4d71-94e8-dff2018992b3",
   "metadata": {},
   "outputs": [],
   "source": [
    "import zipfile\n",
    "with zipfile.ZipFile('ml-latest-small.zip', 'r') as zip_ref:\n",
    "    zip_ref.extractall('data')"
   ]
  },
  {
   "cell_type": "code",
   "execution_count": 3,
   "id": "c544c95f-35ed-43e6-827a-dae3eeb99626",
   "metadata": {},
   "outputs": [],
   "source": [
    "import pandas as pd\n",
    "movies_df = pd.read_csv('data/ml-latest-small/movies.csv')\n",
    "ratings_df = pd.read_csv('data/ml-latest-small/ratings.csv')"
   ]
  },
  {
   "cell_type": "code",
   "execution_count": 4,
   "id": "307a8462-4e95-4a92-842d-a15ffb14d125",
   "metadata": {},
   "outputs": [
    {
     "name": "stdout",
     "output_type": "stream",
     "text": [
      "The dimensions of movies dataframe are: (9742, 3) \n",
      "The dimensions of ratings dataframe are: (100836, 4)\n"
     ]
    }
   ],
   "source": [
    "print('The dimensions of movies dataframe are:', movies_df.shape,'\\nThe dimensions of ratings dataframe are:', ratings_df.shape)"
   ]
  },
  {
   "cell_type": "code",
   "execution_count": 5,
   "id": "730667ea-0af2-406c-a608-af30debc8627",
   "metadata": {},
   "outputs": [
    {
     "data": {
      "text/html": [
       "<div>\n",
       "<style scoped>\n",
       "    .dataframe tbody tr th:only-of-type {\n",
       "        vertical-align: middle;\n",
       "    }\n",
       "\n",
       "    .dataframe tbody tr th {\n",
       "        vertical-align: top;\n",
       "    }\n",
       "\n",
       "    .dataframe thead th {\n",
       "        text-align: right;\n",
       "    }\n",
       "</style>\n",
       "<table border=\"1\" class=\"dataframe\">\n",
       "  <thead>\n",
       "    <tr style=\"text-align: right;\">\n",
       "      <th></th>\n",
       "      <th>movieId</th>\n",
       "      <th>title</th>\n",
       "      <th>genres</th>\n",
       "    </tr>\n",
       "  </thead>\n",
       "  <tbody>\n",
       "    <tr>\n",
       "      <th>0</th>\n",
       "      <td>1</td>\n",
       "      <td>Toy Story (1995)</td>\n",
       "      <td>Adventure|Animation|Children|Comedy|Fantasy</td>\n",
       "    </tr>\n",
       "    <tr>\n",
       "      <th>1</th>\n",
       "      <td>2</td>\n",
       "      <td>Jumanji (1995)</td>\n",
       "      <td>Adventure|Children|Fantasy</td>\n",
       "    </tr>\n",
       "    <tr>\n",
       "      <th>2</th>\n",
       "      <td>3</td>\n",
       "      <td>Grumpier Old Men (1995)</td>\n",
       "      <td>Comedy|Romance</td>\n",
       "    </tr>\n",
       "    <tr>\n",
       "      <th>3</th>\n",
       "      <td>4</td>\n",
       "      <td>Waiting to Exhale (1995)</td>\n",
       "      <td>Comedy|Drama|Romance</td>\n",
       "    </tr>\n",
       "    <tr>\n",
       "      <th>4</th>\n",
       "      <td>5</td>\n",
       "      <td>Father of the Bride Part II (1995)</td>\n",
       "      <td>Comedy</td>\n",
       "    </tr>\n",
       "  </tbody>\n",
       "</table>\n",
       "</div>"
      ],
      "text/plain": [
       "   movieId                               title  \\\n",
       "0        1                    Toy Story (1995)   \n",
       "1        2                      Jumanji (1995)   \n",
       "2        3             Grumpier Old Men (1995)   \n",
       "3        4            Waiting to Exhale (1995)   \n",
       "4        5  Father of the Bride Part II (1995)   \n",
       "\n",
       "                                        genres  \n",
       "0  Adventure|Animation|Children|Comedy|Fantasy  \n",
       "1                   Adventure|Children|Fantasy  \n",
       "2                               Comedy|Romance  \n",
       "3                         Comedy|Drama|Romance  \n",
       "4                                       Comedy  "
      ]
     },
     "execution_count": 5,
     "metadata": {},
     "output_type": "execute_result"
    }
   ],
   "source": [
    "movies_df.head()"
   ]
  },
  {
   "cell_type": "code",
   "execution_count": 6,
   "id": "a84143c7-ee32-4cb9-9864-cf1476606f1d",
   "metadata": {},
   "outputs": [
    {
     "data": {
      "text/html": [
       "<div>\n",
       "<style scoped>\n",
       "    .dataframe tbody tr th:only-of-type {\n",
       "        vertical-align: middle;\n",
       "    }\n",
       "\n",
       "    .dataframe tbody tr th {\n",
       "        vertical-align: top;\n",
       "    }\n",
       "\n",
       "    .dataframe thead th {\n",
       "        text-align: right;\n",
       "    }\n",
       "</style>\n",
       "<table border=\"1\" class=\"dataframe\">\n",
       "  <thead>\n",
       "    <tr style=\"text-align: right;\">\n",
       "      <th></th>\n",
       "      <th>userId</th>\n",
       "      <th>movieId</th>\n",
       "      <th>rating</th>\n",
       "      <th>timestamp</th>\n",
       "    </tr>\n",
       "  </thead>\n",
       "  <tbody>\n",
       "    <tr>\n",
       "      <th>0</th>\n",
       "      <td>1</td>\n",
       "      <td>1</td>\n",
       "      <td>4.0</td>\n",
       "      <td>964982703</td>\n",
       "    </tr>\n",
       "    <tr>\n",
       "      <th>1</th>\n",
       "      <td>1</td>\n",
       "      <td>3</td>\n",
       "      <td>4.0</td>\n",
       "      <td>964981247</td>\n",
       "    </tr>\n",
       "    <tr>\n",
       "      <th>2</th>\n",
       "      <td>1</td>\n",
       "      <td>6</td>\n",
       "      <td>4.0</td>\n",
       "      <td>964982224</td>\n",
       "    </tr>\n",
       "    <tr>\n",
       "      <th>3</th>\n",
       "      <td>1</td>\n",
       "      <td>47</td>\n",
       "      <td>5.0</td>\n",
       "      <td>964983815</td>\n",
       "    </tr>\n",
       "    <tr>\n",
       "      <th>4</th>\n",
       "      <td>1</td>\n",
       "      <td>50</td>\n",
       "      <td>5.0</td>\n",
       "      <td>964982931</td>\n",
       "    </tr>\n",
       "  </tbody>\n",
       "</table>\n",
       "</div>"
      ],
      "text/plain": [
       "   userId  movieId  rating  timestamp\n",
       "0       1        1     4.0  964982703\n",
       "1       1        3     4.0  964981247\n",
       "2       1        6     4.0  964982224\n",
       "3       1       47     5.0  964983815\n",
       "4       1       50     5.0  964982931"
      ]
     },
     "execution_count": 6,
     "metadata": {},
     "output_type": "execute_result"
    }
   ],
   "source": [
    "ratings_df.head()"
   ]
  },
  {
   "cell_type": "code",
   "execution_count": 7,
   "id": "5e2504ea-ad02-45f9-ae66-10e7ad1639a0",
   "metadata": {},
   "outputs": [
    {
     "name": "stdout",
     "output_type": "stream",
     "text": [
      "Number of unique users: 610\n",
      "Number of unique movies: 9724\n",
      "The full rating matrix will have: 5931640 elements.\n",
      "----------\n",
      "Number of ratings: 100836\n",
      "Therefore:  1.6999683055613624 % of the matrix is filled.\n",
      "We have an incredibly sparse matrix to work with here.\n",
      "And... as you can imagine, as the number of users and products grow, the number of elements will increase by n*2\n",
      "You are going to need a lot of memory to work with global scale... storing a full matrix in memory would be a challenge.\n",
      "One advantage here is that matrix factorization can realize the rating matrix implicitly, thus we don't need all the data\n"
     ]
    }
   ],
   "source": [
    "movie_names = movies_df.set_index('movieId')['title'].to_dict()\n",
    "n_users = len(ratings_df.userId.unique())\n",
    "n_items = len(ratings_df.movieId.unique())\n",
    "print(\"Number of unique users:\", n_users)\n",
    "print(\"Number of unique movies:\", n_items)\n",
    "print(\"The full rating matrix will have:\", n_users*n_items, 'elements.')\n",
    "print('----------')\n",
    "print(\"Number of ratings:\", len(ratings_df))\n",
    "print(\"Therefore: \", len(ratings_df) / (n_users*n_items) * 100, '% of the matrix is filled.')\n",
    "print(\"We have an incredibly sparse matrix to work with here.\")\n",
    "print(\"And... as you can imagine, as the number of users and products grow, the number of elements will increase by n*2\")\n",
    "print(\"You are going to need a lot of memory to work with global scale... storing a full matrix in memory would be a challenge.\")\n",
    "print(\"One advantage here is that matrix factorization can realize the rating matrix implicitly, thus we don't need all the data\")\n",
    "     "
   ]
  },
  {
   "cell_type": "code",
   "execution_count": 9,
   "id": "8d7d4705-3c0a-4dee-9a53-4098e89df31a",
   "metadata": {},
   "outputs": [
    {
     "name": "stdout",
     "output_type": "stream",
     "text": [
      "Collecting torch\n",
      "  Downloading torch-2.6.0-cp312-cp312-win_amd64.whl.metadata (28 kB)\n",
      "Collecting filelock (from torch)\n",
      "  Downloading filelock-3.17.0-py3-none-any.whl.metadata (2.9 kB)\n",
      "Requirement already satisfied: typing-extensions>=4.10.0 in c:\\users\\lenovo\\appdata\\local\\programs\\python\\python312\\lib\\site-packages (from torch) (4.12.2)\n",
      "Collecting networkx (from torch)\n",
      "  Downloading networkx-3.4.2-py3-none-any.whl.metadata (6.3 kB)\n",
      "Requirement already satisfied: jinja2 in c:\\users\\lenovo\\appdata\\local\\programs\\python\\python312\\lib\\site-packages (from torch) (3.1.4)\n",
      "Collecting fsspec (from torch)\n",
      "  Downloading fsspec-2025.3.0-py3-none-any.whl.metadata (11 kB)\n",
      "Requirement already satisfied: setuptools in c:\\users\\lenovo\\appdata\\local\\programs\\python\\python312\\lib\\site-packages (from torch) (73.0.1)\n",
      "Collecting sympy==1.13.1 (from torch)\n",
      "  Downloading sympy-1.13.1-py3-none-any.whl.metadata (12 kB)\n",
      "Collecting mpmath<1.4,>=1.1.0 (from sympy==1.13.1->torch)\n",
      "  Downloading mpmath-1.3.0-py3-none-any.whl.metadata (8.6 kB)\n",
      "Requirement already satisfied: MarkupSafe>=2.0 in c:\\users\\lenovo\\appdata\\local\\programs\\python\\python312\\lib\\site-packages (from jinja2->torch) (2.1.5)\n",
      "Downloading torch-2.6.0-cp312-cp312-win_amd64.whl (204.1 MB)\n",
      "   ---------------------------------------- 0.0/204.1 MB ? eta -:--:--\n",
      "   ---------------------------------------- 1.0/204.1 MB 6.3 MB/s eta 0:00:33\n",
      "    --------------------------------------- 2.6/204.1 MB 8.9 MB/s eta 0:00:23\n",
      "    --------------------------------------- 4.7/204.1 MB 7.9 MB/s eta 0:00:26\n",
      "   - -------------------------------------- 5.2/204.1 MB 7.2 MB/s eta 0:00:28\n",
      "   - -------------------------------------- 6.8/204.1 MB 7.1 MB/s eta 0:00:28\n",
      "   - -------------------------------------- 7.6/204.1 MB 6.3 MB/s eta 0:00:31\n",
      "   - -------------------------------------- 9.2/204.1 MB 6.6 MB/s eta 0:00:30\n",
      "   - -------------------------------------- 10.0/204.1 MB 6.4 MB/s eta 0:00:31\n",
      "   -- ------------------------------------- 10.7/204.1 MB 6.2 MB/s eta 0:00:32\n",
      "   -- ------------------------------------- 11.3/204.1 MB 5.7 MB/s eta 0:00:34\n",
      "   -- ------------------------------------- 12.6/204.1 MB 5.6 MB/s eta 0:00:35\n",
      "   -- ------------------------------------- 13.6/204.1 MB 5.6 MB/s eta 0:00:35\n",
      "   -- ------------------------------------- 14.4/204.1 MB 5.5 MB/s eta 0:00:35\n",
      "   -- ------------------------------------- 15.2/204.1 MB 5.4 MB/s eta 0:00:36\n",
      "   --- ------------------------------------ 15.7/204.1 MB 5.4 MB/s eta 0:00:35\n",
      "   --- ------------------------------------ 17.0/204.1 MB 5.2 MB/s eta 0:00:37\n",
      "   --- ------------------------------------ 17.3/204.1 MB 5.2 MB/s eta 0:00:36\n",
      "   --- ------------------------------------ 17.8/204.1 MB 4.8 MB/s eta 0:00:39\n",
      "   --- ------------------------------------ 18.4/204.1 MB 4.8 MB/s eta 0:00:39\n",
      "   --- ------------------------------------ 18.6/204.1 MB 4.7 MB/s eta 0:00:40\n",
      "   --- ------------------------------------ 18.6/204.1 MB 4.7 MB/s eta 0:00:40\n",
      "   --- ------------------------------------ 18.9/204.1 MB 4.2 MB/s eta 0:00:44\n",
      "   --- ------------------------------------ 18.9/204.1 MB 4.2 MB/s eta 0:00:44\n",
      "   --- ------------------------------------ 19.1/204.1 MB 3.9 MB/s eta 0:00:48\n",
      "   ---- ----------------------------------- 20.4/204.1 MB 4.0 MB/s eta 0:00:47\n",
      "   ---- ----------------------------------- 21.0/204.1 MB 4.0 MB/s eta 0:00:47\n",
      "   ---- ----------------------------------- 21.2/204.1 MB 3.8 MB/s eta 0:00:48\n",
      "   ---- ----------------------------------- 21.2/204.1 MB 3.8 MB/s eta 0:00:48\n",
      "   ---- ----------------------------------- 21.2/204.1 MB 3.8 MB/s eta 0:00:48\n",
      "   ---- ----------------------------------- 22.5/204.1 MB 3.7 MB/s eta 0:00:50\n",
      "   ---- ----------------------------------- 23.3/204.1 MB 3.6 MB/s eta 0:00:50\n",
      "   ---- ----------------------------------- 23.9/204.1 MB 3.7 MB/s eta 0:00:50\n",
      "   ---- ----------------------------------- 24.9/204.1 MB 3.7 MB/s eta 0:00:49\n",
      "   ----- ---------------------------------- 26.2/204.1 MB 3.7 MB/s eta 0:00:48\n",
      "   ----- ---------------------------------- 27.5/204.1 MB 3.8 MB/s eta 0:00:47\n",
      "   ----- ---------------------------------- 28.8/204.1 MB 3.9 MB/s eta 0:00:46\n",
      "   ------ --------------------------------- 30.7/204.1 MB 4.0 MB/s eta 0:00:44\n",
      "   ------ --------------------------------- 31.2/204.1 MB 4.0 MB/s eta 0:00:44\n",
      "   ------ --------------------------------- 33.6/204.1 MB 4.2 MB/s eta 0:00:41\n",
      "   ------ --------------------------------- 34.6/204.1 MB 4.2 MB/s eta 0:00:41\n",
      "   ------- -------------------------------- 37.0/204.1 MB 4.4 MB/s eta 0:00:39\n",
      "   ------- -------------------------------- 39.1/204.1 MB 4.5 MB/s eta 0:00:37\n",
      "   -------- ------------------------------- 40.9/204.1 MB 4.6 MB/s eta 0:00:36\n",
      "   -------- ------------------------------- 43.0/204.1 MB 4.7 MB/s eta 0:00:35\n",
      "   -------- ------------------------------- 44.3/204.1 MB 4.8 MB/s eta 0:00:34\n",
      "   --------- ------------------------------ 46.7/204.1 MB 4.9 MB/s eta 0:00:33\n",
      "   --------- ------------------------------ 47.4/204.1 MB 4.9 MB/s eta 0:00:33\n",
      "   --------- ------------------------------ 49.0/204.1 MB 5.0 MB/s eta 0:00:32\n",
      "   --------- ------------------------------ 49.8/204.1 MB 4.9 MB/s eta 0:00:32\n",
      "   ---------- ----------------------------- 52.2/204.1 MB 5.1 MB/s eta 0:00:31\n",
      "   ---------- ----------------------------- 53.0/204.1 MB 5.0 MB/s eta 0:00:30\n",
      "   ---------- ----------------------------- 54.8/204.1 MB 5.1 MB/s eta 0:00:30\n",
      "   ---------- ----------------------------- 55.8/204.1 MB 5.1 MB/s eta 0:00:30\n",
      "   ----------- ---------------------------- 57.9/204.1 MB 5.2 MB/s eta 0:00:29\n",
      "   ----------- ---------------------------- 59.2/204.1 MB 5.2 MB/s eta 0:00:28\n",
      "   ------------ --------------------------- 61.6/204.1 MB 5.3 MB/s eta 0:00:27\n",
      "   ------------ --------------------------- 63.4/204.1 MB 5.4 MB/s eta 0:00:27\n",
      "   ------------ --------------------------- 64.7/204.1 MB 5.4 MB/s eta 0:00:26\n",
      "   ------------ --------------------------- 66.3/204.1 MB 5.4 MB/s eta 0:00:26\n",
      "   ------------- -------------------------- 67.4/204.1 MB 5.5 MB/s eta 0:00:26\n",
      "   ------------- -------------------------- 68.9/204.1 MB 5.5 MB/s eta 0:00:25\n",
      "   ------------- -------------------------- 70.0/204.1 MB 5.5 MB/s eta 0:00:25\n",
      "   -------------- ------------------------- 72.4/204.1 MB 5.6 MB/s eta 0:00:24\n",
      "   -------------- ------------------------- 73.7/204.1 MB 5.6 MB/s eta 0:00:24\n",
      "   -------------- ------------------------- 76.0/204.1 MB 5.7 MB/s eta 0:00:23\n",
      "   --------------- ------------------------ 77.9/204.1 MB 5.7 MB/s eta 0:00:23\n",
      "   --------------- ------------------------ 79.2/204.1 MB 5.8 MB/s eta 0:00:22\n",
      "   --------------- ------------------------ 80.7/204.1 MB 5.8 MB/s eta 0:00:22\n",
      "   ---------------- ----------------------- 82.1/204.1 MB 5.8 MB/s eta 0:00:22\n",
      "   ---------------- ----------------------- 82.8/204.1 MB 5.8 MB/s eta 0:00:21\n",
      "   ---------------- ----------------------- 83.4/204.1 MB 5.7 MB/s eta 0:00:22\n",
      "   ---------------- ----------------------- 83.9/204.1 MB 5.7 MB/s eta 0:00:22\n",
      "   ---------------- ----------------------- 84.1/204.1 MB 5.6 MB/s eta 0:00:22\n",
      "   ---------------- ----------------------- 84.4/204.1 MB 5.5 MB/s eta 0:00:22\n",
      "   ---------------- ----------------------- 84.7/204.1 MB 5.5 MB/s eta 0:00:22\n",
      "   ---------------- ----------------------- 86.2/204.1 MB 5.5 MB/s eta 0:00:22\n",
      "   ---------------- ----------------------- 86.5/204.1 MB 5.5 MB/s eta 0:00:22\n",
      "   ----------------- ---------------------- 88.9/204.1 MB 5.5 MB/s eta 0:00:21\n",
      "   ----------------- ---------------------- 89.7/204.1 MB 5.5 MB/s eta 0:00:21\n",
      "   ----------------- ---------------------- 90.7/204.1 MB 5.5 MB/s eta 0:00:21\n",
      "   ------------------ --------------------- 92.0/204.1 MB 5.5 MB/s eta 0:00:21\n",
      "   ------------------ --------------------- 93.3/204.1 MB 5.5 MB/s eta 0:00:21\n",
      "   ------------------ --------------------- 94.4/204.1 MB 5.5 MB/s eta 0:00:20\n",
      "   ------------------ --------------------- 96.5/204.1 MB 5.6 MB/s eta 0:00:20\n",
      "   ------------------- -------------------- 98.3/204.1 MB 5.6 MB/s eta 0:00:19\n",
      "   ------------------- -------------------- 98.8/204.1 MB 5.6 MB/s eta 0:00:19\n",
      "   ------------------- -------------------- 100.1/204.1 MB 5.6 MB/s eta 0:00:19\n",
      "   ------------------- -------------------- 101.4/204.1 MB 5.6 MB/s eta 0:00:19\n",
      "   -------------------- ------------------- 102.8/204.1 MB 5.6 MB/s eta 0:00:19\n",
      "   -------------------- ------------------- 103.5/204.1 MB 5.6 MB/s eta 0:00:18\n",
      "   -------------------- ------------------- 104.9/204.1 MB 5.6 MB/s eta 0:00:18\n",
      "   -------------------- ------------------- 106.7/204.1 MB 5.6 MB/s eta 0:00:18\n",
      "   --------------------- ------------------ 107.2/204.1 MB 5.6 MB/s eta 0:00:18\n",
      "   --------------------- ------------------ 108.5/204.1 MB 5.6 MB/s eta 0:00:18\n",
      "   --------------------- ------------------ 109.1/204.1 MB 5.6 MB/s eta 0:00:18\n",
      "   --------------------- ------------------ 111.7/204.1 MB 5.6 MB/s eta 0:00:17\n",
      "   ---------------------- ----------------- 112.7/204.1 MB 5.7 MB/s eta 0:00:17\n",
      "   ---------------------- ----------------- 114.8/204.1 MB 5.7 MB/s eta 0:00:16\n",
      "   ---------------------- ----------------- 116.4/204.1 MB 5.7 MB/s eta 0:00:16\n",
      "   ----------------------- ---------------- 118.8/204.1 MB 5.8 MB/s eta 0:00:15\n",
      "   ----------------------- ---------------- 120.3/204.1 MB 5.8 MB/s eta 0:00:15\n",
      "   ----------------------- ---------------- 121.6/204.1 MB 5.8 MB/s eta 0:00:15\n",
      "   ------------------------ --------------- 122.9/204.1 MB 5.8 MB/s eta 0:00:15\n",
      "   ------------------------ --------------- 124.5/204.1 MB 5.8 MB/s eta 0:00:14\n",
      "   ------------------------ --------------- 125.6/204.1 MB 5.8 MB/s eta 0:00:14\n",
      "   ------------------------- -------------- 127.9/204.1 MB 5.8 MB/s eta 0:00:14\n",
      "   ------------------------- -------------- 129.5/204.1 MB 5.9 MB/s eta 0:00:13\n",
      "   ------------------------- -------------- 131.3/204.1 MB 5.9 MB/s eta 0:00:13\n",
      "   -------------------------- ------------- 133.2/204.1 MB 5.9 MB/s eta 0:00:12\n",
      "   -------------------------- ------------- 134.0/204.1 MB 5.9 MB/s eta 0:00:12\n",
      "   -------------------------- ------------- 136.3/204.1 MB 5.9 MB/s eta 0:00:12\n",
      "   --------------------------- ------------ 137.9/204.1 MB 6.0 MB/s eta 0:00:12\n",
      "   --------------------------- ------------ 138.7/204.1 MB 5.9 MB/s eta 0:00:12\n",
      "   --------------------------- ------------ 141.0/204.1 MB 6.0 MB/s eta 0:00:11\n",
      "   ---------------------------- ----------- 143.9/204.1 MB 6.1 MB/s eta 0:00:10\n",
      "   ---------------------------- ----------- 145.2/204.1 MB 6.1 MB/s eta 0:00:10\n",
      "   ---------------------------- ----------- 145.2/204.1 MB 6.1 MB/s eta 0:00:10\n",
      "   ---------------------------- ----------- 145.8/204.1 MB 6.0 MB/s eta 0:00:10\n",
      "   ---------------------------- ----------- 145.8/204.1 MB 6.0 MB/s eta 0:00:10\n",
      "   ---------------------------- ----------- 146.0/204.1 MB 5.9 MB/s eta 0:00:10\n",
      "   ---------------------------- ----------- 146.0/204.1 MB 5.9 MB/s eta 0:00:10\n",
      "   ---------------------------- ----------- 146.0/204.1 MB 5.9 MB/s eta 0:00:10\n",
      "   ---------------------------- ----------- 146.3/204.1 MB 5.8 MB/s eta 0:00:11\n",
      "   ---------------------------- ----------- 146.5/204.1 MB 5.7 MB/s eta 0:00:11\n",
      "   ----------------------------- ---------- 148.1/204.1 MB 5.7 MB/s eta 0:00:10\n",
      "   ----------------------------- ---------- 148.9/204.1 MB 5.7 MB/s eta 0:00:10\n",
      "   ----------------------------- ---------- 150.7/204.1 MB 5.7 MB/s eta 0:00:10\n",
      "   ----------------------------- ---------- 151.8/204.1 MB 5.7 MB/s eta 0:00:10\n",
      "   ----------------------------- ---------- 152.8/204.1 MB 5.7 MB/s eta 0:00:09\n",
      "   ------------------------------ --------- 154.7/204.1 MB 5.7 MB/s eta 0:00:09\n",
      "   ------------------------------ --------- 155.5/204.1 MB 5.7 MB/s eta 0:00:09\n",
      "   ------------------------------ --------- 156.5/204.1 MB 5.7 MB/s eta 0:00:09\n",
      "   ------------------------------ --------- 157.5/204.1 MB 5.7 MB/s eta 0:00:09\n",
      "   ------------------------------- -------- 158.9/204.1 MB 5.7 MB/s eta 0:00:08\n",
      "   ------------------------------- -------- 160.4/204.1 MB 5.7 MB/s eta 0:00:08\n",
      "   ------------------------------- -------- 161.5/204.1 MB 5.7 MB/s eta 0:00:08\n",
      "   -------------------------------- ------- 164.1/204.1 MB 5.8 MB/s eta 0:00:07\n",
      "   -------------------------------- ------- 165.4/204.1 MB 5.8 MB/s eta 0:00:07\n",
      "   -------------------------------- ------- 165.9/204.1 MB 5.8 MB/s eta 0:00:07\n",
      "   -------------------------------- ------- 166.7/204.1 MB 5.8 MB/s eta 0:00:07\n",
      "   -------------------------------- ------- 168.3/204.1 MB 5.8 MB/s eta 0:00:07\n",
      "   -------------------------------- ------- 168.3/204.1 MB 5.8 MB/s eta 0:00:07\n",
      "   --------------------------------- ------ 169.3/204.1 MB 5.7 MB/s eta 0:00:07\n",
      "   --------------------------------- ------ 169.9/204.1 MB 5.7 MB/s eta 0:00:07\n",
      "   --------------------------------- ------ 170.7/204.1 MB 5.7 MB/s eta 0:00:06\n",
      "   --------------------------------- ------ 171.7/204.1 MB 5.7 MB/s eta 0:00:06\n",
      "   --------------------------------- ------ 172.8/204.1 MB 5.7 MB/s eta 0:00:06\n",
      "   ---------------------------------- ----- 173.5/204.1 MB 5.6 MB/s eta 0:00:06\n",
      "   ---------------------------------- ----- 174.6/204.1 MB 5.6 MB/s eta 0:00:06\n",
      "   ---------------------------------- ----- 175.6/204.1 MB 5.6 MB/s eta 0:00:06\n",
      "   ---------------------------------- ----- 175.9/204.1 MB 5.6 MB/s eta 0:00:06\n",
      "   ---------------------------------- ----- 176.4/204.1 MB 5.6 MB/s eta 0:00:05\n",
      "   ---------------------------------- ----- 176.7/204.1 MB 5.6 MB/s eta 0:00:05\n",
      "   ---------------------------------- ----- 176.7/204.1 MB 5.6 MB/s eta 0:00:05\n",
      "   ---------------------------------- ----- 177.2/204.1 MB 5.5 MB/s eta 0:00:05\n",
      "   ---------------------------------- ----- 178.0/204.1 MB 5.5 MB/s eta 0:00:05\n",
      "   ---------------------------------- ----- 178.3/204.1 MB 5.5 MB/s eta 0:00:05\n",
      "   ----------------------------------- ---- 178.8/204.1 MB 5.5 MB/s eta 0:00:05\n",
      "   ----------------------------------- ---- 179.0/204.1 MB 5.5 MB/s eta 0:00:05\n",
      "   ----------------------------------- ---- 179.0/204.1 MB 5.5 MB/s eta 0:00:05\n",
      "   ----------------------------------- ---- 179.3/204.1 MB 5.4 MB/s eta 0:00:05\n",
      "   ----------------------------------- ---- 179.3/204.1 MB 5.4 MB/s eta 0:00:05\n",
      "   ----------------------------------- ---- 179.8/204.1 MB 5.4 MB/s eta 0:00:05\n",
      "   ----------------------------------- ---- 179.8/204.1 MB 5.4 MB/s eta 0:00:05\n",
      "   ----------------------------------- ---- 180.4/204.1 MB 5.4 MB/s eta 0:00:05\n",
      "   ----------------------------------- ---- 180.4/204.1 MB 5.4 MB/s eta 0:00:05\n",
      "   ----------------------------------- ---- 180.4/204.1 MB 5.4 MB/s eta 0:00:05\n",
      "   ----------------------------------- ---- 180.6/204.1 MB 5.4 MB/s eta 0:00:05\n",
      "   ----------------------------------- ---- 180.6/204.1 MB 5.4 MB/s eta 0:00:05\n",
      "   ----------------------------------- ---- 181.7/204.1 MB 5.4 MB/s eta 0:00:05\n",
      "   ----------------------------------- ---- 181.9/204.1 MB 5.4 MB/s eta 0:00:05\n",
      "   ----------------------------------- ---- 182.5/204.1 MB 5.4 MB/s eta 0:00:04\n",
      "   ----------------------------------- ---- 182.7/204.1 MB 5.4 MB/s eta 0:00:04\n",
      "   ----------------------------------- ---- 183.2/204.1 MB 5.4 MB/s eta 0:00:04\n",
      "   ----------------------------------- ---- 183.5/204.1 MB 5.4 MB/s eta 0:00:04\n",
      "   ------------------------------------ --- 184.0/204.1 MB 5.4 MB/s eta 0:00:04\n",
      "   ------------------------------------ --- 184.3/204.1 MB 5.4 MB/s eta 0:00:04\n",
      "   ------------------------------------ --- 185.3/204.1 MB 5.3 MB/s eta 0:00:04\n",
      "   ------------------------------------ --- 186.1/204.1 MB 5.3 MB/s eta 0:00:04\n",
      "   ------------------------------------ --- 186.9/204.1 MB 5.3 MB/s eta 0:00:04\n",
      "   ------------------------------------ --- 187.4/204.1 MB 5.2 MB/s eta 0:00:04\n",
      "   ------------------------------------ --- 188.7/204.1 MB 5.3 MB/s eta 0:00:03\n",
      "   ------------------------------------- -- 189.0/204.1 MB 5.3 MB/s eta 0:00:03\n",
      "   ------------------------------------- -- 189.8/204.1 MB 5.2 MB/s eta 0:00:03\n",
      "   ------------------------------------- -- 190.1/204.1 MB 5.1 MB/s eta 0:00:03\n",
      "   ------------------------------------- -- 190.3/204.1 MB 5.1 MB/s eta 0:00:03\n",
      "   ------------------------------------- -- 190.8/204.1 MB 5.0 MB/s eta 0:00:03\n",
      "   ------------------------------------- -- 191.4/204.1 MB 5.0 MB/s eta 0:00:03\n",
      "   ------------------------------------- -- 191.6/204.1 MB 5.0 MB/s eta 0:00:03\n",
      "   ------------------------------------- -- 192.2/204.1 MB 4.9 MB/s eta 0:00:03\n",
      "   ------------------------------------- -- 192.9/204.1 MB 4.9 MB/s eta 0:00:03\n",
      "   ------------------------------------- -- 193.2/204.1 MB 4.9 MB/s eta 0:00:03\n",
      "   -------------------------------------- - 194.2/204.1 MB 4.8 MB/s eta 0:00:03\n",
      "   -------------------------------------- - 195.0/204.1 MB 4.8 MB/s eta 0:00:02\n",
      "   -------------------------------------- - 195.8/204.1 MB 4.8 MB/s eta 0:00:02\n",
      "   -------------------------------------- - 197.1/204.1 MB 4.7 MB/s eta 0:00:02\n",
      "   -------------------------------------- - 197.7/204.1 MB 4.8 MB/s eta 0:00:02\n",
      "   -------------------------------------- - 199.0/204.1 MB 4.7 MB/s eta 0:00:02\n",
      "   -------------------------------------- - 199.0/204.1 MB 4.7 MB/s eta 0:00:02\n",
      "   ---------------------------------------  200.3/204.1 MB 4.6 MB/s eta 0:00:01\n",
      "   ---------------------------------------  201.3/204.1 MB 4.6 MB/s eta 0:00:01\n",
      "   ---------------------------------------  202.4/204.1 MB 4.6 MB/s eta 0:00:01\n",
      "   ---------------------------------------  202.9/204.1 MB 4.6 MB/s eta 0:00:01\n",
      "   ---------------------------------------  203.9/204.1 MB 4.6 MB/s eta 0:00:01\n",
      "   ---------------------------------------- 204.1/204.1 MB 4.5 MB/s eta 0:00:00\n",
      "Downloading sympy-1.13.1-py3-none-any.whl (6.2 MB)\n",
      "   ---------------------------------------- 0.0/6.2 MB ? eta -:--:--\n",
      "   ---------- ----------------------------- 1.6/6.2 MB 10.5 MB/s eta 0:00:01\n",
      "   --------------- ------------------------ 2.4/6.2 MB 5.6 MB/s eta 0:00:01\n",
      "   --------------- ------------------------ 2.4/6.2 MB 5.6 MB/s eta 0:00:01\n",
      "   -------------------- ------------------- 3.1/6.2 MB 3.8 MB/s eta 0:00:01\n",
      "   ---------------------- ----------------- 3.4/6.2 MB 3.2 MB/s eta 0:00:01\n",
      "   --------------------------- ------------ 4.2/6.2 MB 3.4 MB/s eta 0:00:01\n",
      "   --------------------------- ------------ 4.2/6.2 MB 3.4 MB/s eta 0:00:01\n",
      "   --------------------------- ------------ 4.2/6.2 MB 3.4 MB/s eta 0:00:01\n",
      "   ------------------------------ --------- 4.7/6.2 MB 2.5 MB/s eta 0:00:01\n",
      "   ----------------------------------- ---- 5.5/6.2 MB 2.7 MB/s eta 0:00:01\n",
      "   ------------------------------------- -- 5.8/6.2 MB 2.6 MB/s eta 0:00:01\n",
      "   -------------------------------------- - 6.0/6.2 MB 2.4 MB/s eta 0:00:01\n",
      "   ---------------------------------------- 6.2/6.2 MB 2.3 MB/s eta 0:00:00\n",
      "Downloading filelock-3.17.0-py3-none-any.whl (16 kB)\n",
      "Downloading fsspec-2025.3.0-py3-none-any.whl (193 kB)\n",
      "Downloading networkx-3.4.2-py3-none-any.whl (1.7 MB)\n",
      "   ---------------------------------------- 0.0/1.7 MB ? eta -:--:--\n",
      "   ------------ --------------------------- 0.5/1.7 MB 4.2 MB/s eta 0:00:01\n",
      "   ------------------ --------------------- 0.8/1.7 MB 1.8 MB/s eta 0:00:01\n",
      "   ---------------------------------------- 1.7/1.7 MB 2.6 MB/s eta 0:00:00\n",
      "Downloading mpmath-1.3.0-py3-none-any.whl (536 kB)\n",
      "   ---------------------------------------- 0.0/536.2 kB ? eta -:--:--\n",
      "   ------------------- -------------------- 262.1/536.2 kB ? eta -:--:--\n",
      "   ---------------------------------------- 536.2/536.2 kB 1.6 MB/s eta 0:00:00\n",
      "Installing collected packages: mpmath, sympy, networkx, fsspec, filelock, torch\n",
      "Successfully installed filelock-3.17.0 fsspec-2025.3.0 mpmath-1.3.0 networkx-3.4.2 sympy-1.13.1 torch-2.6.0\n",
      "Note: you may need to restart the kernel to use updated packages.\n"
     ]
    }
   ],
   "source": [
    "pip install torch"
   ]
  },
  {
   "cell_type": "code",
   "execution_count": 14,
   "id": "d1700bf0-1d0a-47c9-a6cf-2f8c6a038629",
   "metadata": {},
   "outputs": [],
   "source": [
    "import torch\n",
    "import numpy as np\n",
    "from torch.autograd import Variable\n",
    "from tqdm import tqdm_notebook as tqdm\n",
    "\n",
    "class MatrixFactorization(torch.nn.Module):\n",
    "    def __init__(self, n_users, n_items, n_factors=20):\n",
    "        super().__init__()\n",
    "        self.user_factors = torch.nn.Embedding(n_users, n_factors)\n",
    "        self.item_factors = torch.nn.Embedding(n_items, n_factors)\n",
    "        self.user_factors.weight.data.uniform_(0, 0.05)\n",
    "        self.item_factors.weight.data.uniform_(0, 0.05)\n",
    "        \n",
    "    def forward(self, data):\n",
    "        users, items = data[:,0], data[:,1]\n",
    "        return (self.user_factors(users)*self.item_factors(items)).sum(1)\n",
    "    \n",
    "    def predict(self, user, item):\n",
    "        return self.forward(user, item)"
   ]
  },
  {
   "cell_type": "code",
   "execution_count": 15,
   "id": "1185ff21-97b0-499a-b220-997518377119",
   "metadata": {},
   "outputs": [],
   "source": [
    "from torch.utils.data.dataset import Dataset\n",
    "from torch.utils.data import DataLoader\n",
    "\n",
    "class Loader(Dataset):\n",
    "    def __init__(self):\n",
    "        self.ratings = ratings_df.copy()\n",
    "        \n",
    "        users = ratings_df.userId.unique()\n",
    "        movies = ratings_df.movieId.unique()\n",
    "        \n",
    "        self.userid2idx = {o:i for i,o in enumerate(users)}\n",
    "        self.movieid2idx = {o:i for i,o in enumerate(movies)}\n",
    "        \n",
    "        self.idx2userid = {i:o for o,i in self.userid2idx.items()}\n",
    "        self.idx2movieid = {i:o for o,i in self.movieid2idx.items()}\n",
    "        \n",
    "        self.ratings.movieId = ratings_df.movieId.apply(lambda x: self.movieid2idx[x])\n",
    "        self.ratings.userId = ratings_df.userId.apply(lambda x: self.userid2idx[x])\n",
    "        \n",
    "        \n",
    "        self.x = self.ratings.drop(['rating', 'timestamp'], axis=1).values\n",
    "        self.y = self.ratings['rating'].values\n",
    "        self.x, self.y = torch.tensor(self.x), torch.tensor(self.y)\n",
    "\n",
    "    def __getitem__(self, index):\n",
    "        return (self.x[index], self.y[index])\n",
    "\n",
    "    def __len__(self):\n",
    "        return len(self.ratings)"
   ]
  },
  {
   "cell_type": "code",
   "execution_count": 28,
   "id": "25dd6964-ec00-46a2-b2d4-61421f2eb2ff",
   "metadata": {},
   "outputs": [
    {
     "name": "stdout",
     "output_type": "stream",
     "text": [
      "Is running on GPU: False\n",
      "MatrixFactorization(\n",
      "  (user_factors): Embedding(610, 8)\n",
      "  (item_factors): Embedding(9724, 8)\n",
      ")\n",
      "user_factors.weight tensor([[0.0261, 0.0215, 0.0395,  ..., 0.0425, 0.0124, 0.0216],\n",
      "        [0.0310, 0.0238, 0.0010,  ..., 0.0484, 0.0007, 0.0396],\n",
      "        [0.0455, 0.0343, 0.0400,  ..., 0.0462, 0.0176, 0.0262],\n",
      "        ...,\n",
      "        [0.0393, 0.0033, 0.0487,  ..., 0.0277, 0.0461, 0.0113],\n",
      "        [0.0024, 0.0147, 0.0171,  ..., 0.0330, 0.0391, 0.0184],\n",
      "        [0.0325, 0.0205, 0.0400,  ..., 0.0262, 0.0219, 0.0025]])\n",
      "item_factors.weight tensor([[0.0307, 0.0135, 0.0265,  ..., 0.0102, 0.0285, 0.0056],\n",
      "        [0.0031, 0.0235, 0.0093,  ..., 0.0355, 0.0219, 0.0081],\n",
      "        [0.0004, 0.0143, 0.0443,  ..., 0.0426, 0.0062, 0.0291],\n",
      "        ...,\n",
      "        [0.0027, 0.0007, 0.0184,  ..., 0.0176, 0.0313, 0.0362],\n",
      "        [0.0250, 0.0060, 0.0210,  ..., 0.0366, 0.0297, 0.0080],\n",
      "        [0.0435, 0.0094, 0.0278,  ..., 0.0299, 0.0369, 0.0289]])\n"
     ]
    }
   ],
   "source": [
    "num_epochs = 128\n",
    "cuda = torch.cuda.is_available()\n",
    "\n",
    "print(\"Is running on GPU:\", cuda)\n",
    "\n",
    "model = MatrixFactorization(n_users, n_items, n_factors=8)\n",
    "print(model)\n",
    "for name, param in model.named_parameters():\n",
    "    if param.requires_grad:\n",
    "        print(name, param.data)\n",
    "if cuda:\n",
    "    model = model.cuda()\n",
    "\n",
    "loss_fn = torch.nn.MSELoss()\n",
    "\n",
    "optimizer = torch.optim.Adam(model.parameters(), lr=1e-3)\n",
    "\n",
    "train_set = Loader()\n",
    "train_loader = DataLoader(train_set, 128, shuffle=True)"
   ]
  },
  {
   "cell_type": "code",
   "execution_count": 31,
   "id": "17f80b9d-b3a5-4be1-b05e-0a5b6de68218",
   "metadata": {},
   "outputs": [
    {
     "name": "stderr",
     "output_type": "stream",
     "text": [
      "\n",
      "\n",
      "\n",
      "\n",
      "\u001b[A\u001b[A\u001b[A\u001b[A                                                                                                                                                                            | 0/128 [00:00<?, ?it/s]\n",
      "\n",
      "\n",
      "\n",
      "\u001b[A\u001b[A\u001b[A\u001b[A                                                                                                                                                                    | 1/128 [00:01<02:18,  1.09s/it]"
     ]
    },
    {
     "name": "stdout",
     "output_type": "stream",
     "text": [
      "iter #0 Loss: 0.32721169357221136\n"
     ]
    },
    {
     "name": "stderr",
     "output_type": "stream",
     "text": [
      "\n",
      "\n",
      "\n",
      "\n",
      "\u001b[A\u001b[A\u001b[A\u001b[A                                                                                                                                                                    | 2/128 [00:02<02:17,  1.09s/it]"
     ]
    },
    {
     "name": "stdout",
     "output_type": "stream",
     "text": [
      "iter #1 Loss: 0.32670211531032767\n"
     ]
    },
    {
     "name": "stderr",
     "output_type": "stream",
     "text": [
      "\n",
      "\n",
      "\n",
      "\n",
      "\u001b[A\u001b[A\u001b[A\u001b[A                                                                                                                                                                    | 3/128 [00:03<02:15,  1.09s/it]"
     ]
    },
    {
     "name": "stdout",
     "output_type": "stream",
     "text": [
      "iter #2 Loss: 0.3262679220796539\n"
     ]
    },
    {
     "name": "stderr",
     "output_type": "stream",
     "text": [
      "\n",
      "\n",
      "\n",
      "\n",
      "\u001b[A\u001b[A\u001b[A\u001b[A                                                                                                                                                                    | 4/128 [00:04<02:13,  1.08s/it]"
     ]
    },
    {
     "name": "stdout",
     "output_type": "stream",
     "text": [
      "iter #3 Loss: 0.3257331711235385\n"
     ]
    },
    {
     "name": "stderr",
     "output_type": "stream",
     "text": [
      "\n",
      "\n",
      "\n",
      "\n",
      "\u001b[A\u001b[A\u001b[A\u001b[A                                                                                                                                                                    | 5/128 [00:05<02:11,  1.07s/it]"
     ]
    },
    {
     "name": "stdout",
     "output_type": "stream",
     "text": [
      "iter #4 Loss: 0.3254053381456034\n"
     ]
    },
    {
     "name": "stderr",
     "output_type": "stream",
     "text": [
      "\n",
      "\n",
      "\n",
      "\n",
      "\u001b[A\u001b[A\u001b[A\u001b[A█                                                                                                                                                                   | 6/128 [00:06<02:12,  1.09s/it]"
     ]
    },
    {
     "name": "stdout",
     "output_type": "stream",
     "text": [
      "iter #5 Loss: 0.32483767825864296\n"
     ]
    },
    {
     "name": "stderr",
     "output_type": "stream",
     "text": [
      "\n",
      "\n",
      "\n",
      "\n",
      "\u001b[A\u001b[A\u001b[A\u001b[AException ignored in: <function tqdm.__del__ at 0x0000015E96062700>                                                                                                 | 7/128 [00:07<02:11,  1.08s/it]\n",
      "Traceback (most recent call last):\n",
      "  File \"C:\\Users\\Lenovo\\AppData\\Local\\Programs\\Python\\Python312\\Lib\\site-packages\\tqdm\\std.py\", line 1148, in __del__\n",
      "    self.close()\n",
      "  File \"C:\\Users\\Lenovo\\AppData\\Local\\Programs\\Python\\Python312\\Lib\\site-packages\\tqdm\\notebook.py\", line 279, in close\n",
      "    self.disp(bar_style='danger', check_delay=False)\n",
      "    ^^^^^^^^^\n",
      "AttributeError: 'tqdm_notebook' object has no attribute 'disp'\n"
     ]
    },
    {
     "name": "stdout",
     "output_type": "stream",
     "text": [
      "iter #6 Loss: 0.32465583467997877\n"
     ]
    },
    {
     "name": "stderr",
     "output_type": "stream",
     "text": [
      "\n",
      "\n",
      "\n",
      "\n",
      "\u001b[A\u001b[A\u001b[A\u001b[A███▋                                                                                                                                                                | 8/128 [00:08<02:09,  1.08s/it]"
     ]
    },
    {
     "name": "stdout",
     "output_type": "stream",
     "text": [
      "iter #7 Loss: 0.32388624537565985\n"
     ]
    },
    {
     "name": "stderr",
     "output_type": "stream",
     "text": [
      "\n",
      "\n",
      "\n",
      "\n",
      "\u001b[A\u001b[A\u001b[A\u001b[A█████                                                                                                                                                               | 9/128 [00:09<02:08,  1.08s/it]"
     ]
    },
    {
     "name": "stdout",
     "output_type": "stream",
     "text": [
      "iter #8 Loss: 0.32374842209637467\n"
     ]
    },
    {
     "name": "stderr",
     "output_type": "stream",
     "text": [
      "\n",
      "\n",
      "\n",
      "\n",
      "\u001b[A\u001b[A\u001b[A\u001b[A██████▎                                                                                                                                                            | 10/128 [00:10<02:07,  1.08s/it]"
     ]
    },
    {
     "name": "stdout",
     "output_type": "stream",
     "text": [
      "iter #9 Loss: 0.3231514441936754\n"
     ]
    },
    {
     "name": "stderr",
     "output_type": "stream",
     "text": [
      "\n",
      "\n",
      "\n",
      "\n",
      "\u001b[A\u001b[A\u001b[A\u001b[A███████▌                                                                                                                                                           | 11/128 [00:11<02:04,  1.06s/it]"
     ]
    },
    {
     "name": "stdout",
     "output_type": "stream",
     "text": [
      "iter #10 Loss: 0.3228616874457011\n"
     ]
    },
    {
     "name": "stderr",
     "output_type": "stream",
     "text": [
      "\n",
      "\n",
      "\n",
      "\n",
      "\u001b[A\u001b[A\u001b[A\u001b[A████████▉                                                                                                                                                          | 12/128 [00:12<02:02,  1.05s/it]"
     ]
    },
    {
     "name": "stdout",
     "output_type": "stream",
     "text": [
      "iter #11 Loss: 0.32242502739208606\n"
     ]
    },
    {
     "name": "stderr",
     "output_type": "stream",
     "text": [
      "\n",
      "\n",
      "\n",
      "\n",
      "\u001b[A\u001b[A\u001b[A\u001b[A██████████▎                                                                                                                                                        | 13/128 [00:14<02:05,  1.09s/it]"
     ]
    },
    {
     "name": "stdout",
     "output_type": "stream",
     "text": [
      "iter #12 Loss: 0.32193688074419946\n"
     ]
    },
    {
     "name": "stderr",
     "output_type": "stream",
     "text": [
      "\n",
      "\n",
      "\n",
      "\n",
      "\u001b[A\u001b[A\u001b[A\u001b[A███████████▌                                                                                                                                                       | 14/128 [00:15<02:04,  1.09s/it]"
     ]
    },
    {
     "name": "stdout",
     "output_type": "stream",
     "text": [
      "iter #13 Loss: 0.3217055475916052\n"
     ]
    },
    {
     "name": "stderr",
     "output_type": "stream",
     "text": [
      "\n",
      "\n",
      "\n",
      "\n",
      "\u001b[A\u001b[A\u001b[A\u001b[A████████████▉                                                                                                                                                      | 15/128 [00:16<02:03,  1.09s/it]"
     ]
    },
    {
     "name": "stdout",
     "output_type": "stream",
     "text": [
      "iter #14 Loss: 0.32130514368944363\n"
     ]
    },
    {
     "name": "stderr",
     "output_type": "stream",
     "text": [
      "\n",
      "\n",
      "\n",
      "\n",
      "\u001b[A\u001b[A\u001b[A\u001b[A██████████████▎                                                                                                                                                    | 16/128 [00:17<02:01,  1.08s/it]"
     ]
    },
    {
     "name": "stdout",
     "output_type": "stream",
     "text": [
      "iter #15 Loss: 0.3208973585689431\n"
     ]
    },
    {
     "name": "stderr",
     "output_type": "stream",
     "text": [
      "\n",
      "\n",
      "\n",
      "\n",
      "\u001b[A\u001b[A\u001b[A\u001b[A███████████████▌                                                                                                                                                   | 17/128 [00:18<02:02,  1.10s/it]"
     ]
    },
    {
     "name": "stdout",
     "output_type": "stream",
     "text": [
      "iter #16 Loss: 0.32055439126824364\n"
     ]
    },
    {
     "name": "stderr",
     "output_type": "stream",
     "text": [
      "\n",
      "\n",
      "\n",
      "\n",
      "\u001b[A\u001b[A\u001b[A\u001b[A████████████████▉                                                                                                                                                  | 18/128 [00:19<02:00,  1.09s/it]"
     ]
    },
    {
     "name": "stdout",
     "output_type": "stream",
     "text": [
      "iter #17 Loss: 0.32027672900615006\n"
     ]
    },
    {
     "name": "stderr",
     "output_type": "stream",
     "text": [
      "\n",
      "\n",
      "\n",
      "\n",
      "\u001b[A\u001b[A\u001b[A\u001b[A██████████████████▏                                                                                                                                                | 19/128 [00:20<01:58,  1.09s/it]"
     ]
    },
    {
     "name": "stdout",
     "output_type": "stream",
     "text": [
      "iter #18 Loss: 0.31992483008558376\n"
     ]
    },
    {
     "name": "stderr",
     "output_type": "stream",
     "text": [
      "\n",
      "\n",
      "\n",
      "\n",
      "\u001b[A\u001b[A\u001b[A\u001b[A███████████████████▌                                                                                                                                               | 20/128 [00:21<01:55,  1.07s/it]"
     ]
    },
    {
     "name": "stdout",
     "output_type": "stream",
     "text": [
      "iter #19 Loss: 0.3195507892875502\n"
     ]
    },
    {
     "name": "stderr",
     "output_type": "stream",
     "text": [
      "\n",
      "\n",
      "\n",
      "\n",
      "\u001b[A\u001b[A\u001b[A\u001b[A████████████████████▉                                                                                                                                              | 21/128 [00:22<01:56,  1.08s/it]"
     ]
    },
    {
     "name": "stdout",
     "output_type": "stream",
     "text": [
      "iter #20 Loss: 0.31922130712170893\n"
     ]
    },
    {
     "name": "stderr",
     "output_type": "stream",
     "text": [
      "\n",
      "\n",
      "\n",
      "\n",
      "\u001b[A\u001b[A\u001b[A\u001b[A██████████████████████▏                                                                                                                                            | 22/128 [00:23<01:53,  1.07s/it]"
     ]
    },
    {
     "name": "stdout",
     "output_type": "stream",
     "text": [
      "iter #21 Loss: 0.31884712816646255\n"
     ]
    },
    {
     "name": "stderr",
     "output_type": "stream",
     "text": [
      "\n",
      "\n",
      "\n",
      "\n",
      "\u001b[A\u001b[A\u001b[A\u001b[A███████████████████████▌                                                                                                                                           | 23/128 [00:24<01:50,  1.06s/it]"
     ]
    },
    {
     "name": "stdout",
     "output_type": "stream",
     "text": [
      "iter #22 Loss: 0.3187068512256678\n"
     ]
    },
    {
     "name": "stderr",
     "output_type": "stream",
     "text": [
      "\n",
      "\n",
      "\n",
      "\n",
      "\u001b[A\u001b[A\u001b[A\u001b[A████████████████████████▉                                                                                                                                          | 24/128 [00:25<01:48,  1.04s/it]"
     ]
    },
    {
     "name": "stdout",
     "output_type": "stream",
     "text": [
      "iter #23 Loss: 0.3183223985816319\n"
     ]
    },
    {
     "name": "stderr",
     "output_type": "stream",
     "text": [
      "\n",
      "\n",
      "\n",
      "\n",
      "\u001b[A\u001b[A\u001b[A\u001b[A██████████████████████████▏                                                                                                                                        | 25/128 [00:26<01:47,  1.05s/it]"
     ]
    },
    {
     "name": "stdout",
     "output_type": "stream",
     "text": [
      "iter #24 Loss: 0.3177900789731045\n"
     ]
    },
    {
     "name": "stderr",
     "output_type": "stream",
     "text": [
      "\n",
      "\n",
      "\n",
      "\n",
      "\u001b[A\u001b[A\u001b[A\u001b[A███████████████████████████▌                                                                                                                                       | 26/128 [00:27<01:45,  1.04s/it]"
     ]
    },
    {
     "name": "stdout",
     "output_type": "stream",
     "text": [
      "iter #25 Loss: 0.31767197618932286\n"
     ]
    },
    {
     "name": "stderr",
     "output_type": "stream",
     "text": [
      "\n",
      "\n",
      "\n",
      "\n",
      "\u001b[A\u001b[A\u001b[A\u001b[A████████████████████████████▊                                                                                                                                      | 27/128 [00:28<01:45,  1.04s/it]"
     ]
    },
    {
     "name": "stdout",
     "output_type": "stream",
     "text": [
      "iter #26 Loss: 0.3174530035121187\n"
     ]
    },
    {
     "name": "stderr",
     "output_type": "stream",
     "text": [
      "\n",
      "\n",
      "\n",
      "\n",
      "\u001b[A\u001b[A\u001b[A\u001b[A██████████████████████████████▏                                                                                                                                    | 28/128 [00:30<01:45,  1.05s/it]"
     ]
    },
    {
     "name": "stdout",
     "output_type": "stream",
     "text": [
      "iter #27 Loss: 0.3171012080676362\n"
     ]
    },
    {
     "name": "stderr",
     "output_type": "stream",
     "text": [
      "\n",
      "\n",
      "\n",
      "\n",
      "\u001b[A\u001b[A\u001b[A\u001b[A███████████████████████████████▌                                                                                                                                   | 29/128 [00:31<01:45,  1.07s/it]"
     ]
    },
    {
     "name": "stdout",
     "output_type": "stream",
     "text": [
      "iter #28 Loss: 0.3167332635653503\n"
     ]
    },
    {
     "name": "stderr",
     "output_type": "stream",
     "text": [
      "\n",
      "\n",
      "\n",
      "\n",
      "\u001b[A\u001b[A\u001b[A\u001b[A████████████████████████████████▊                                                                                                                                  | 30/128 [00:32<01:45,  1.08s/it]"
     ]
    },
    {
     "name": "stdout",
     "output_type": "stream",
     "text": [
      "iter #29 Loss: 0.31647789211669547\n"
     ]
    },
    {
     "name": "stderr",
     "output_type": "stream",
     "text": [
      "\n",
      "\n",
      "\n",
      "\n",
      "\u001b[A\u001b[A\u001b[A\u001b[A██████████████████████████████████▏                                                                                                                                | 31/128 [00:33<01:43,  1.07s/it]"
     ]
    },
    {
     "name": "stdout",
     "output_type": "stream",
     "text": [
      "iter #30 Loss: 0.3162096286674744\n"
     ]
    },
    {
     "name": "stderr",
     "output_type": "stream",
     "text": [
      "\n",
      "\n",
      "\n",
      "\n",
      "\u001b[A\u001b[A\u001b[A\u001b[A███████████████████████████████████▌                                                                                                                               | 32/128 [00:34<01:43,  1.08s/it]"
     ]
    },
    {
     "name": "stdout",
     "output_type": "stream",
     "text": [
      "iter #31 Loss: 0.3159576669751388\n"
     ]
    },
    {
     "name": "stderr",
     "output_type": "stream",
     "text": [
      "\n",
      "\n",
      "\n",
      "\n",
      "\u001b[A\u001b[A\u001b[A\u001b[A████████████████████████████████████▊                                                                                                                              | 33/128 [00:35<01:41,  1.07s/it]"
     ]
    },
    {
     "name": "stdout",
     "output_type": "stream",
     "text": [
      "iter #32 Loss: 0.31571091061013606\n"
     ]
    },
    {
     "name": "stderr",
     "output_type": "stream",
     "text": [
      "\n",
      "\n",
      "\n",
      "\n",
      "\u001b[A\u001b[A\u001b[A\u001b[A██████████████████████████████████████▏                                                                                                                            | 34/128 [00:36<01:40,  1.07s/it]"
     ]
    },
    {
     "name": "stdout",
     "output_type": "stream",
     "text": [
      "iter #33 Loss: 0.31534551197502214\n"
     ]
    },
    {
     "name": "stderr",
     "output_type": "stream",
     "text": [
      "\n",
      "\n",
      "\n",
      "\n",
      "\u001b[A\u001b[A\u001b[A\u001b[A███████████████████████████████████████▍                                                                                                                           | 35/128 [00:37<01:39,  1.07s/it]"
     ]
    },
    {
     "name": "stdout",
     "output_type": "stream",
     "text": [
      "iter #34 Loss: 0.31501250417175025\n"
     ]
    },
    {
     "name": "stderr",
     "output_type": "stream",
     "text": [
      "\n",
      "\n",
      "\n",
      "\n",
      "\u001b[A\u001b[A\u001b[A\u001b[A████████████████████████████████████████▊                                                                                                                          | 36/128 [00:38<01:38,  1.07s/it]"
     ]
    },
    {
     "name": "stdout",
     "output_type": "stream",
     "text": [
      "iter #35 Loss: 0.31492985597797457\n"
     ]
    },
    {
     "name": "stderr",
     "output_type": "stream",
     "text": [
      "\n",
      "\n",
      "\n",
      "\n",
      "\u001b[A\u001b[A\u001b[A\u001b[A██████████████████████████████████████████▏                                                                                                                        | 37/128 [00:39<01:37,  1.07s/it]"
     ]
    },
    {
     "name": "stdout",
     "output_type": "stream",
     "text": [
      "iter #36 Loss: 0.3146225546633229\n"
     ]
    },
    {
     "name": "stderr",
     "output_type": "stream",
     "text": [
      "\n",
      "\n",
      "\n",
      "\n",
      "\u001b[A\u001b[A\u001b[A\u001b[A███████████████████████████████████████████▍                                                                                                                       | 38/128 [00:40<01:36,  1.07s/it]"
     ]
    },
    {
     "name": "stdout",
     "output_type": "stream",
     "text": [
      "iter #37 Loss: 0.3142815691225117\n"
     ]
    },
    {
     "name": "stderr",
     "output_type": "stream",
     "text": [
      "\n",
      "\n",
      "\n",
      "\n",
      "\u001b[A\u001b[A\u001b[A\u001b[A████████████████████████████████████████████▊                                                                                                                      | 39/128 [00:41<01:35,  1.08s/it]"
     ]
    },
    {
     "name": "stdout",
     "output_type": "stream",
     "text": [
      "iter #38 Loss: 0.3141533952716946\n"
     ]
    },
    {
     "name": "stderr",
     "output_type": "stream",
     "text": [
      "\n",
      "\n",
      "\n",
      "\n",
      "\u001b[A\u001b[A\u001b[A\u001b[A██████████████████████████████████████████████▏                                                                                                                    | 40/128 [00:42<01:35,  1.09s/it]"
     ]
    },
    {
     "name": "stdout",
     "output_type": "stream",
     "text": [
      "iter #39 Loss: 0.3138630489067075\n"
     ]
    },
    {
     "name": "stderr",
     "output_type": "stream",
     "text": [
      "\n",
      "\n",
      "\n",
      "\n",
      "\u001b[A\u001b[A\u001b[A\u001b[A███████████████████████████████████████████████▍                                                                                                                   | 41/128 [00:44<01:33,  1.08s/it]"
     ]
    },
    {
     "name": "stdout",
     "output_type": "stream",
     "text": [
      "iter #40 Loss: 0.31369588130773024\n"
     ]
    },
    {
     "name": "stderr",
     "output_type": "stream",
     "text": [
      "\n",
      "\n",
      "\n",
      "\n",
      "\u001b[A\u001b[A\u001b[A\u001b[A████████████████████████████████████████████████▊                                                                                                                  | 42/128 [00:45<01:31,  1.06s/it]"
     ]
    },
    {
     "name": "stdout",
     "output_type": "stream",
     "text": [
      "iter #41 Loss: 0.31318136885157094\n"
     ]
    },
    {
     "name": "stderr",
     "output_type": "stream",
     "text": [
      "\n",
      "\n",
      "\n",
      "\n",
      "\u001b[A\u001b[A\u001b[A\u001b[A██████████████████████████████████████████████████                                                                                                                 | 43/128 [00:46<01:31,  1.07s/it]"
     ]
    },
    {
     "name": "stdout",
     "output_type": "stream",
     "text": [
      "iter #42 Loss: 0.3131270559532993\n"
     ]
    },
    {
     "name": "stderr",
     "output_type": "stream",
     "text": [
      "\n",
      "\n",
      "\n",
      "\n",
      "\u001b[A\u001b[A\u001b[A\u001b[A███████████████████████████████████████████████████▍                                                                                                               | 44/128 [00:47<01:31,  1.08s/it]"
     ]
    },
    {
     "name": "stdout",
     "output_type": "stream",
     "text": [
      "iter #43 Loss: 0.3131290578524473\n"
     ]
    },
    {
     "name": "stderr",
     "output_type": "stream",
     "text": [
      "\n",
      "\n",
      "\n",
      "\n",
      "\u001b[A\u001b[A\u001b[A\u001b[A████████████████████████████████████████████████████▊                                                                                                              | 45/128 [00:48<01:29,  1.08s/it]"
     ]
    },
    {
     "name": "stdout",
     "output_type": "stream",
     "text": [
      "iter #44 Loss: 0.31275928640728673\n"
     ]
    },
    {
     "name": "stderr",
     "output_type": "stream",
     "text": [
      "\n",
      "\n",
      "\n",
      "\n",
      "\u001b[A\u001b[A\u001b[A\u001b[A██████████████████████████████████████████████████████                                                                                                             | 46/128 [00:49<01:28,  1.07s/it]"
     ]
    },
    {
     "name": "stdout",
     "output_type": "stream",
     "text": [
      "iter #45 Loss: 0.3124208556403061\n"
     ]
    },
    {
     "name": "stderr",
     "output_type": "stream",
     "text": [
      "\n",
      "\n",
      "\n",
      "\n",
      "\u001b[A\u001b[A\u001b[A\u001b[A███████████████████████████████████████████████████████▍                                                                                                           | 47/128 [00:50<01:26,  1.07s/it]"
     ]
    },
    {
     "name": "stdout",
     "output_type": "stream",
     "text": [
      "iter #46 Loss: 0.3122972976132698\n"
     ]
    },
    {
     "name": "stderr",
     "output_type": "stream",
     "text": [
      "\n",
      "\n",
      "\n",
      "\n",
      "\u001b[A\u001b[A\u001b[A\u001b[A████████████████████████████████████████████████████████▊                                                                                                          | 48/128 [00:51<01:24,  1.06s/it]"
     ]
    },
    {
     "name": "stdout",
     "output_type": "stream",
     "text": [
      "iter #47 Loss: 0.31206362447725033\n"
     ]
    },
    {
     "name": "stderr",
     "output_type": "stream",
     "text": [
      "\n",
      "\n",
      "\n",
      "\n",
      "\u001b[A\u001b[A\u001b[A\u001b[A██████████████████████████████████████████████████████████                                                                                                         | 49/128 [00:52<01:23,  1.05s/it]"
     ]
    },
    {
     "name": "stdout",
     "output_type": "stream",
     "text": [
      "iter #48 Loss: 0.3119186463619247\n"
     ]
    },
    {
     "name": "stderr",
     "output_type": "stream",
     "text": [
      "\n",
      "\n",
      "\n",
      "\n",
      "\u001b[A\u001b[A\u001b[A\u001b[A███████████████████████████████████████████████████████████▍                                                                                                       | 50/128 [00:53<01:23,  1.06s/it]"
     ]
    },
    {
     "name": "stdout",
     "output_type": "stream",
     "text": [
      "iter #49 Loss: 0.31151360146663515\n"
     ]
    },
    {
     "name": "stderr",
     "output_type": "stream",
     "text": [
      "\n",
      "\n",
      "\n",
      "\n",
      "\u001b[A\u001b[A\u001b[A\u001b[A████████████████████████████████████████████████████████████▋                                                                                                      | 51/128 [00:54<01:23,  1.09s/it]"
     ]
    },
    {
     "name": "stdout",
     "output_type": "stream",
     "text": [
      "iter #50 Loss: 0.3114518369666211\n"
     ]
    },
    {
     "name": "stderr",
     "output_type": "stream",
     "text": [
      "\n",
      "\n",
      "\n",
      "\n",
      "\u001b[A\u001b[A\u001b[A\u001b[A██████████████████████████████████████████████████████████████                                                                                                     | 52/128 [00:55<01:23,  1.09s/it]"
     ]
    },
    {
     "name": "stdout",
     "output_type": "stream",
     "text": [
      "iter #51 Loss: 0.31127730845875545\n"
     ]
    },
    {
     "name": "stderr",
     "output_type": "stream",
     "text": [
      "\n",
      "\n",
      "\n",
      "\n",
      "\u001b[A\u001b[A\u001b[A\u001b[A███████████████████████████████████████████████████████████████▍                                                                                                   | 53/128 [00:56<01:22,  1.09s/it]"
     ]
    },
    {
     "name": "stdout",
     "output_type": "stream",
     "text": [
      "iter #52 Loss: 0.3110373975132322\n"
     ]
    },
    {
     "name": "stderr",
     "output_type": "stream",
     "text": [
      "\n",
      "\n",
      "\n",
      "\n",
      "\u001b[A\u001b[A\u001b[A\u001b[A████████████████████████████████████████████████████████████████▋                                                                                                  | 54/128 [00:58<01:21,  1.10s/it]"
     ]
    },
    {
     "name": "stdout",
     "output_type": "stream",
     "text": [
      "iter #53 Loss: 0.31079014628974316\n"
     ]
    },
    {
     "name": "stderr",
     "output_type": "stream",
     "text": [
      "\n",
      "\n",
      "\n",
      "\n",
      "\u001b[A\u001b[A\u001b[A\u001b[A██████████████████████████████████████████████████████████████████                                                                                                 | 55/128 [00:59<01:21,  1.11s/it]"
     ]
    },
    {
     "name": "stdout",
     "output_type": "stream",
     "text": [
      "iter #54 Loss: 0.31055599205233725\n"
     ]
    },
    {
     "name": "stderr",
     "output_type": "stream",
     "text": [
      "\n",
      "\n",
      "\n",
      "\n",
      "\u001b[A\u001b[A\u001b[A\u001b[A███████████████████████████████████████████████████████████████████▍                                                                                               | 56/128 [01:00<01:20,  1.11s/it]"
     ]
    },
    {
     "name": "stdout",
     "output_type": "stream",
     "text": [
      "iter #55 Loss: 0.3104320278362877\n"
     ]
    },
    {
     "name": "stderr",
     "output_type": "stream",
     "text": [
      "\n",
      "\n",
      "\n",
      "\n",
      "\u001b[A\u001b[A\u001b[A\u001b[A████████████████████████████████████████████████████████████████████▋                                                                                              | 57/128 [01:01<01:17,  1.10s/it]"
     ]
    },
    {
     "name": "stdout",
     "output_type": "stream",
     "text": [
      "iter #56 Loss: 0.3100182130403325\n"
     ]
    },
    {
     "name": "stderr",
     "output_type": "stream",
     "text": [
      "\n",
      "\n",
      "\n",
      "\n",
      "\u001b[A\u001b[A\u001b[A\u001b[A██████████████████████████████████████████████████████████████████████                                                                                             | 58/128 [01:02<01:15,  1.08s/it]"
     ]
    },
    {
     "name": "stdout",
     "output_type": "stream",
     "text": [
      "iter #57 Loss: 0.30993254484637134\n"
     ]
    },
    {
     "name": "stderr",
     "output_type": "stream",
     "text": [
      "\n",
      "\n",
      "\n",
      "\n",
      "\u001b[A\u001b[A\u001b[A\u001b[A███████████████████████████████████████████████████████████████████████▎                                                                                           | 59/128 [01:03<01:15,  1.09s/it]"
     ]
    },
    {
     "name": "stdout",
     "output_type": "stream",
     "text": [
      "iter #58 Loss: 0.30965445113136686\n"
     ]
    },
    {
     "name": "stderr",
     "output_type": "stream",
     "text": [
      "\n",
      "\n",
      "\n",
      "\n",
      "\u001b[A\u001b[A\u001b[A\u001b[A████████████████████████████████████████████████████████████████████████▋                                                                                          | 60/128 [01:04<01:13,  1.09s/it]"
     ]
    },
    {
     "name": "stdout",
     "output_type": "stream",
     "text": [
      "iter #59 Loss: 0.3097589755156621\n"
     ]
    },
    {
     "name": "stderr",
     "output_type": "stream",
     "text": [
      "\n",
      "\n",
      "\n",
      "\n",
      "\u001b[A\u001b[A\u001b[A\u001b[A██████████████████████████████████████████████████████████████████████████                                                                                         | 61/128 [01:05<01:11,  1.07s/it]"
     ]
    },
    {
     "name": "stdout",
     "output_type": "stream",
     "text": [
      "iter #60 Loss: 0.30949041843036107\n"
     ]
    },
    {
     "name": "stderr",
     "output_type": "stream",
     "text": [
      "\n",
      "\n",
      "\n",
      "\n",
      "\u001b[A\u001b[A\u001b[A\u001b[A███████████████████████████████████████████████████████████████████████████▎                                                                                       | 62/128 [01:06<01:09,  1.05s/it]"
     ]
    },
    {
     "name": "stdout",
     "output_type": "stream",
     "text": [
      "iter #61 Loss: 0.30929487599485417\n"
     ]
    },
    {
     "name": "stderr",
     "output_type": "stream",
     "text": [
      "\n",
      "\n",
      "\n",
      "\n",
      "\u001b[A\u001b[A\u001b[A\u001b[A████████████████████████████████████████████████████████████████████████████▋                                                                                      | 63/128 [01:07<01:09,  1.07s/it]"
     ]
    },
    {
     "name": "stdout",
     "output_type": "stream",
     "text": [
      "iter #62 Loss: 0.3089935848404308\n"
     ]
    },
    {
     "name": "stderr",
     "output_type": "stream",
     "text": [
      "\n",
      "\n",
      "\n",
      "\n",
      "\u001b[A\u001b[A\u001b[A\u001b[A██████████████████████████████████████████████████████████████████████████████                                                                                     | 64/128 [01:08<01:09,  1.08s/it]"
     ]
    },
    {
     "name": "stdout",
     "output_type": "stream",
     "text": [
      "iter #63 Loss: 0.30894282878125984\n"
     ]
    },
    {
     "name": "stderr",
     "output_type": "stream",
     "text": [
      "\n",
      "\n",
      "\n",
      "\n",
      "\u001b[A\u001b[A\u001b[A\u001b[A███████████████████████████████████████████████████████████████████████████████▎                                                                                   | 65/128 [01:10<01:09,  1.10s/it]"
     ]
    },
    {
     "name": "stdout",
     "output_type": "stream",
     "text": [
      "iter #64 Loss: 0.3086058433890948\n"
     ]
    },
    {
     "name": "stderr",
     "output_type": "stream",
     "text": [
      "\n",
      "\n",
      "\n",
      "\n",
      "\u001b[A\u001b[A\u001b[A\u001b[A████████████████████████████████████████████████████████████████████████████████▋                                                                                  | 66/128 [01:11<01:09,  1.13s/it]"
     ]
    },
    {
     "name": "stdout",
     "output_type": "stream",
     "text": [
      "iter #65 Loss: 0.3086210921936229\n"
     ]
    },
    {
     "name": "stderr",
     "output_type": "stream",
     "text": [
      "\n",
      "\n",
      "\n",
      "\n",
      "\u001b[A\u001b[A\u001b[A\u001b[A█████████████████████████████████████████████████████████████████████████████████▉                                                                                 | 67/128 [01:12<01:07,  1.11s/it]"
     ]
    },
    {
     "name": "stdout",
     "output_type": "stream",
     "text": [
      "iter #66 Loss: 0.3083480557776647\n"
     ]
    },
    {
     "name": "stderr",
     "output_type": "stream",
     "text": [
      "\n",
      "\n",
      "\n",
      "\n",
      "\u001b[A\u001b[A\u001b[A\u001b[A███████████████████████████████████████████████████████████████████████████████████▎                                                                               | 68/128 [01:13<01:05,  1.09s/it]"
     ]
    },
    {
     "name": "stdout",
     "output_type": "stream",
     "text": [
      "iter #67 Loss: 0.3082081273122487\n"
     ]
    },
    {
     "name": "stderr",
     "output_type": "stream",
     "text": [
      "\n",
      "\n",
      "\n",
      "\n",
      "\u001b[A\u001b[A\u001b[A\u001b[A████████████████████████████████████████████████████████████████████████████████████▋                                                                              | 69/128 [01:14<01:04,  1.09s/it]"
     ]
    },
    {
     "name": "stdout",
     "output_type": "stream",
     "text": [
      "iter #68 Loss: 0.3081538913591864\n"
     ]
    },
    {
     "name": "stderr",
     "output_type": "stream",
     "text": [
      "\n",
      "\n",
      "\n",
      "\n",
      "\u001b[A\u001b[A\u001b[A\u001b[A█████████████████████████████████████████████████████████████████████████████████████▉                                                                             | 70/128 [01:15<01:02,  1.08s/it]"
     ]
    },
    {
     "name": "stdout",
     "output_type": "stream",
     "text": [
      "iter #69 Loss: 0.3079109887029919\n"
     ]
    },
    {
     "name": "stderr",
     "output_type": "stream",
     "text": [
      "\n",
      "\n",
      "\n",
      "\n",
      "\u001b[A\u001b[A\u001b[A\u001b[A███████████████████████████████████████████████████████████████████████████████████████▎                                                                           | 71/128 [01:16<01:01,  1.08s/it]"
     ]
    },
    {
     "name": "stdout",
     "output_type": "stream",
     "text": [
      "iter #70 Loss: 0.30771283020601053\n"
     ]
    },
    {
     "name": "stderr",
     "output_type": "stream",
     "text": [
      "\n",
      "\n",
      "\n",
      "\n",
      "\u001b[A\u001b[A\u001b[A\u001b[A████████████████████████████████████████████████████████████████████████████████████████▋                                                                          | 72/128 [01:17<00:59,  1.07s/it]"
     ]
    },
    {
     "name": "stdout",
     "output_type": "stream",
     "text": [
      "iter #71 Loss: 0.30757040740345337\n"
     ]
    },
    {
     "name": "stderr",
     "output_type": "stream",
     "text": [
      "\n",
      "\n",
      "\n",
      "\n",
      "\u001b[A\u001b[A\u001b[A\u001b[A█████████████████████████████████████████████████████████████████████████████████████████▉                                                                         | 73/128 [01:18<00:57,  1.05s/it]"
     ]
    },
    {
     "name": "stdout",
     "output_type": "stream",
     "text": [
      "iter #72 Loss: 0.3075515419093485\n"
     ]
    },
    {
     "name": "stderr",
     "output_type": "stream",
     "text": [
      "\n",
      "\n",
      "\n",
      "\n",
      "\u001b[A\u001b[A\u001b[A\u001b[A███████████████████████████████████████████████████████████████████████████████████████████▎                                                                       | 74/128 [01:19<00:56,  1.05s/it]"
     ]
    },
    {
     "name": "stdout",
     "output_type": "stream",
     "text": [
      "iter #73 Loss: 0.3071493534229431\n"
     ]
    },
    {
     "name": "stderr",
     "output_type": "stream",
     "text": [
      "\n",
      "\n",
      "\n",
      "\n",
      "\u001b[A\u001b[A\u001b[A\u001b[A████████████████████████████████████████████████████████████████████████████████████████████▌                                                                      | 75/128 [01:20<00:55,  1.04s/it]"
     ]
    },
    {
     "name": "stdout",
     "output_type": "stream",
     "text": [
      "iter #74 Loss: 0.3071068848487992\n"
     ]
    },
    {
     "name": "stderr",
     "output_type": "stream",
     "text": [
      "\n",
      "\n",
      "\n",
      "\n",
      "\u001b[A\u001b[A\u001b[A\u001b[A█████████████████████████████████████████████████████████████████████████████████████████████▉                                                                     | 76/128 [01:21<00:54,  1.05s/it]"
     ]
    },
    {
     "name": "stdout",
     "output_type": "stream",
     "text": [
      "iter #75 Loss: 0.3069705535766437\n"
     ]
    },
    {
     "name": "stderr",
     "output_type": "stream",
     "text": [
      "\n",
      "\n",
      "\n",
      "\n",
      "\u001b[A\u001b[A\u001b[A\u001b[A███████████████████████████████████████████████████████████████████████████████████████████████▎                                                                   | 77/128 [01:22<00:54,  1.07s/it]"
     ]
    },
    {
     "name": "stdout",
     "output_type": "stream",
     "text": [
      "iter #76 Loss: 0.30688901918793693\n"
     ]
    },
    {
     "name": "stderr",
     "output_type": "stream",
     "text": [
      "\n",
      "\n",
      "\n",
      "\n",
      "\u001b[A\u001b[A\u001b[A\u001b[A████████████████████████████████████████████████████████████████████████████████████████████████▌                                                                  | 78/128 [01:23<00:54,  1.08s/it]"
     ]
    },
    {
     "name": "stdout",
     "output_type": "stream",
     "text": [
      "iter #77 Loss: 0.3065810228513582\n"
     ]
    },
    {
     "name": "stderr",
     "output_type": "stream",
     "text": [
      "\n",
      "\n",
      "\n",
      "\n",
      "\u001b[A\u001b[A\u001b[A\u001b[A█████████████████████████████████████████████████████████████████████████████████████████████████▉                                                                 | 79/128 [01:25<00:53,  1.09s/it]"
     ]
    },
    {
     "name": "stdout",
     "output_type": "stream",
     "text": [
      "iter #78 Loss: 0.30654641324039644\n"
     ]
    },
    {
     "name": "stderr",
     "output_type": "stream",
     "text": [
      "\n",
      "\n",
      "\n",
      "\n",
      "\u001b[A\u001b[A\u001b[A\u001b[A███████████████████████████████████████████████████████████████████████████████████████████████████▎                                                               | 80/128 [01:26<00:51,  1.07s/it]"
     ]
    },
    {
     "name": "stdout",
     "output_type": "stream",
     "text": [
      "iter #79 Loss: 0.3064222693216377\n"
     ]
    },
    {
     "name": "stderr",
     "output_type": "stream",
     "text": [
      "\n",
      "\n",
      "\n",
      "\n",
      "\u001b[A\u001b[A\u001b[A\u001b[A████████████████████████████████████████████████████████████████████████████████████████████████████▌                                                              | 81/128 [01:27<00:50,  1.07s/it]"
     ]
    },
    {
     "name": "stdout",
     "output_type": "stream",
     "text": [
      "iter #80 Loss: 0.3061348807425971\n"
     ]
    },
    {
     "name": "stderr",
     "output_type": "stream",
     "text": [
      "\n",
      "\n",
      "\n",
      "\n",
      "\u001b[A\u001b[A\u001b[A\u001b[A█████████████████████████████████████████████████████████████████████████████████████████████████████▉                                                             | 82/128 [01:28<00:48,  1.06s/it]"
     ]
    },
    {
     "name": "stdout",
     "output_type": "stream",
     "text": [
      "iter #81 Loss: 0.3059574368263259\n"
     ]
    },
    {
     "name": "stderr",
     "output_type": "stream",
     "text": [
      "\n",
      "\n",
      "\n",
      "\n",
      "\u001b[A\u001b[A\u001b[A\u001b[A███████████████████████████████████████████████████████████████████████████████████████████████████████▏                                                           | 83/128 [01:29<00:48,  1.08s/it]"
     ]
    },
    {
     "name": "stdout",
     "output_type": "stream",
     "text": [
      "iter #82 Loss: 0.3058854820499868\n"
     ]
    },
    {
     "name": "stderr",
     "output_type": "stream",
     "text": [
      "\n",
      "\n",
      "\n",
      "\n",
      "\u001b[A\u001b[A\u001b[A\u001b[A████████████████████████████████████████████████████████████████████████████████████████████████████████▌                                                          | 84/128 [01:30<00:48,  1.11s/it]"
     ]
    },
    {
     "name": "stdout",
     "output_type": "stream",
     "text": [
      "iter #83 Loss: 0.3058591138212209\n"
     ]
    },
    {
     "name": "stderr",
     "output_type": "stream",
     "text": [
      "\n",
      "\n",
      "\n",
      "\n",
      "\u001b[A\u001b[A\u001b[A\u001b[A█████████████████████████████████████████████████████████████████████████████████████████████████████████▉                                                         | 85/128 [01:31<00:47,  1.10s/it]"
     ]
    },
    {
     "name": "stdout",
     "output_type": "stream",
     "text": [
      "iter #84 Loss: 0.30578299335719367\n"
     ]
    },
    {
     "name": "stderr",
     "output_type": "stream",
     "text": [
      "\n",
      "\n",
      "\n",
      "\n",
      "\u001b[A\u001b[A\u001b[A\u001b[A███████████████████████████████████████████████████████████████████████████████████████████████████████████▏                                                       | 86/128 [01:32<00:45,  1.08s/it]"
     ]
    },
    {
     "name": "stdout",
     "output_type": "stream",
     "text": [
      "iter #85 Loss: 0.3054628971264447\n"
     ]
    },
    {
     "name": "stderr",
     "output_type": "stream",
     "text": [
      "\n",
      "\n",
      "\n",
      "\n",
      "\u001b[A\u001b[A\u001b[A\u001b[A████████████████████████████████████████████████████████████████████████████████████████████████████████████▌                                                      | 87/128 [01:33<00:43,  1.07s/it]"
     ]
    },
    {
     "name": "stdout",
     "output_type": "stream",
     "text": [
      "iter #86 Loss: 0.30529696352515123\n"
     ]
    },
    {
     "name": "stderr",
     "output_type": "stream",
     "text": [
      "\n",
      "\n",
      "\n",
      "\n",
      "\u001b[A\u001b[A\u001b[A\u001b[A█████████████████████████████████████████████████████████████████████████████████████████████████████████████▉                                                     | 88/128 [01:34<00:43,  1.08s/it]"
     ]
    },
    {
     "name": "stdout",
     "output_type": "stream",
     "text": [
      "iter #87 Loss: 0.30534947894248865\n"
     ]
    },
    {
     "name": "stderr",
     "output_type": "stream",
     "text": [
      "\n",
      "\n",
      "\n",
      "\n",
      "\u001b[A\u001b[A\u001b[A\u001b[A███████████████████████████████████████████████████████████████████████████████████████████████████████████████▏                                                   | 89/128 [01:35<00:42,  1.08s/it]"
     ]
    },
    {
     "name": "stdout",
     "output_type": "stream",
     "text": [
      "iter #88 Loss: 0.3049975653855026\n"
     ]
    },
    {
     "name": "stderr",
     "output_type": "stream",
     "text": [
      "\n",
      "\n",
      "\n",
      "\n",
      "\u001b[A\u001b[A\u001b[A\u001b[A████████████████████████████████████████████████████████████████████████████████████████████████████████████████▌                                                  | 90/128 [01:36<00:41,  1.09s/it]"
     ]
    },
    {
     "name": "stdout",
     "output_type": "stream",
     "text": [
      "iter #89 Loss: 0.30505526924345094\n"
     ]
    },
    {
     "name": "stderr",
     "output_type": "stream",
     "text": [
      "\n",
      "\n",
      "\n",
      "\n",
      "\u001b[A\u001b[A\u001b[A\u001b[A█████████████████████████████████████████████████████████████████████████████████████████████████████████████████▊                                                 | 91/128 [01:38<00:40,  1.10s/it]"
     ]
    },
    {
     "name": "stdout",
     "output_type": "stream",
     "text": [
      "iter #90 Loss: 0.30494621106740183\n"
     ]
    },
    {
     "name": "stderr",
     "output_type": "stream",
     "text": [
      "\n",
      "\n",
      "\n",
      "\n",
      "\u001b[A\u001b[A\u001b[A\u001b[A███████████████████████████████████████████████████████████████████████████████████████████████████████████████████▏                                               | 92/128 [01:39<00:40,  1.12s/it]"
     ]
    },
    {
     "name": "stdout",
     "output_type": "stream",
     "text": [
      "iter #91 Loss: 0.30476956404178274\n"
     ]
    },
    {
     "name": "stderr",
     "output_type": "stream",
     "text": [
      "\n",
      "\n",
      "\n",
      "\n",
      "\u001b[A\u001b[A\u001b[A\u001b[A████████████████████████████████████████████████████████████████████████████████████████████████████████████████████▌                                              | 93/128 [01:40<00:38,  1.11s/it]"
     ]
    },
    {
     "name": "stdout",
     "output_type": "stream",
     "text": [
      "iter #92 Loss: 0.3046354179833141\n"
     ]
    },
    {
     "name": "stderr",
     "output_type": "stream",
     "text": [
      "\n",
      "\n",
      "\n",
      "\n",
      "\u001b[A\u001b[A\u001b[A\u001b[A█████████████████████████████████████████████████████████████████████████████████████████████████████████████████████▊                                             | 94/128 [01:41<00:37,  1.09s/it]"
     ]
    },
    {
     "name": "stdout",
     "output_type": "stream",
     "text": [
      "iter #93 Loss: 0.30445231648568577\n"
     ]
    },
    {
     "name": "stderr",
     "output_type": "stream",
     "text": [
      "\n",
      "\n",
      "\n",
      "\n",
      "\u001b[A\u001b[A\u001b[A\u001b[A███████████████████████████████████████████████████████████████████████████████████████████████████████████████████████▏                                           | 95/128 [01:42<00:36,  1.11s/it]"
     ]
    },
    {
     "name": "stdout",
     "output_type": "stream",
     "text": [
      "iter #94 Loss: 0.30447853636469335\n"
     ]
    },
    {
     "name": "stderr",
     "output_type": "stream",
     "text": [
      "\n",
      "\n",
      "\n",
      "\n",
      "\u001b[A\u001b[A\u001b[A\u001b[A████████████████████████████████████████████████████████████████████████████████████████████████████████████████████████▌                                          | 96/128 [01:43<00:35,  1.10s/it]"
     ]
    },
    {
     "name": "stdout",
     "output_type": "stream",
     "text": [
      "iter #95 Loss: 0.3041740499134294\n"
     ]
    },
    {
     "name": "stderr",
     "output_type": "stream",
     "text": [
      "\n",
      "\n",
      "\n",
      "\n",
      "\u001b[A\u001b[A\u001b[A\u001b[A█████████████████████████████████████████████████████████████████████████████████████████████████████████████████████████▊                                         | 97/128 [01:44<00:33,  1.09s/it]"
     ]
    },
    {
     "name": "stdout",
     "output_type": "stream",
     "text": [
      "iter #96 Loss: 0.3041379386700955\n"
     ]
    },
    {
     "name": "stderr",
     "output_type": "stream",
     "text": [
      "\n",
      "\n",
      "\n",
      "\n",
      "\u001b[A\u001b[A\u001b[A\u001b[A███████████████████████████████████████████████████████████████████████████████████████████████████████████████████████████▏                                       | 98/128 [01:45<00:32,  1.08s/it]"
     ]
    },
    {
     "name": "stdout",
     "output_type": "stream",
     "text": [
      "iter #97 Loss: 0.30402250831880545\n"
     ]
    },
    {
     "name": "stderr",
     "output_type": "stream",
     "text": [
      "\n",
      "\n",
      "\n",
      "\n",
      "\u001b[A\u001b[A\u001b[A\u001b[A████████████████████████████████████████████████████████████████████████████████████████████████████████████████████████████▍                                      | 99/128 [01:46<00:31,  1.09s/it]"
     ]
    },
    {
     "name": "stdout",
     "output_type": "stream",
     "text": [
      "iter #98 Loss: 0.3039060199283404\n"
     ]
    },
    {
     "name": "stderr",
     "output_type": "stream",
     "text": [
      "\n",
      "\n",
      "\n",
      "\n",
      "\u001b[A\u001b[A\u001b[A\u001b[A█████████████████████████████████████████████████████████████████████████████████████████████████████████████████████████████                                     | 100/128 [01:47<00:30,  1.08s/it]"
     ]
    },
    {
     "name": "stdout",
     "output_type": "stream",
     "text": [
      "iter #99 Loss: 0.30375999471333426\n"
     ]
    },
    {
     "name": "stderr",
     "output_type": "stream",
     "text": [
      "\n",
      "\n",
      "\n",
      "\n",
      "\u001b[A\u001b[A\u001b[A\u001b[A██████████████████████████████████████████████████████████████████████████████████████████████████████████████████████████████▎                                   | 101/128 [01:48<00:29,  1.08s/it]"
     ]
    },
    {
     "name": "stdout",
     "output_type": "stream",
     "text": [
      "iter #100 Loss: 0.303712921774932\n"
     ]
    },
    {
     "name": "stderr",
     "output_type": "stream",
     "text": [
      "\n",
      "\n",
      "\n",
      "\n",
      "\u001b[A\u001b[A\u001b[A\u001b[A███████████████████████████████████████████████████████████████████████████████████████████████████████████████████████████████▋                                  | 102/128 [01:50<00:27,  1.07s/it]"
     ]
    },
    {
     "name": "stdout",
     "output_type": "stream",
     "text": [
      "iter #101 Loss: 0.30340323986740886\n"
     ]
    },
    {
     "name": "stderr",
     "output_type": "stream",
     "text": [
      "\n",
      "\n",
      "\n",
      "\n",
      "\u001b[A\u001b[A\u001b[A\u001b[A████████████████████████████████████████████████████████████████████████████████████████████████████████████████████████████████▉                                 | 103/128 [01:51<00:26,  1.08s/it]"
     ]
    },
    {
     "name": "stdout",
     "output_type": "stream",
     "text": [
      "iter #102 Loss: 0.3032680430123346\n"
     ]
    },
    {
     "name": "stderr",
     "output_type": "stream",
     "text": [
      "\n",
      "\n",
      "\n",
      "\n",
      "\u001b[A\u001b[A\u001b[A\u001b[A██████████████████████████████████████████████████████████████████████████████████████████████████████████████████████████████████▎                               | 104/128 [01:52<00:25,  1.08s/it]"
     ]
    },
    {
     "name": "stdout",
     "output_type": "stream",
     "text": [
      "iter #103 Loss: 0.3033605751576762\n"
     ]
    },
    {
     "name": "stderr",
     "output_type": "stream",
     "text": [
      "\n",
      "\n",
      "\n",
      "\n",
      "\u001b[A\u001b[A\u001b[A\u001b[A███████████████████████████████████████████████████████████████████████████████████████████████████████████████████████████████████▋                              | 105/128 [01:53<00:24,  1.08s/it]"
     ]
    },
    {
     "name": "stdout",
     "output_type": "stream",
     "text": [
      "iter #104 Loss: 0.3031182905025591\n"
     ]
    },
    {
     "name": "stderr",
     "output_type": "stream",
     "text": [
      "\n",
      "\n",
      "\n",
      "\n",
      "\u001b[A\u001b[A\u001b[A\u001b[A████████████████████████████████████████████████████████████████████████████████████████████████████████████████████████████████████▉                             | 106/128 [01:54<00:24,  1.10s/it]"
     ]
    },
    {
     "name": "stdout",
     "output_type": "stream",
     "text": [
      "iter #105 Loss: 0.3031089276567026\n"
     ]
    },
    {
     "name": "stderr",
     "output_type": "stream",
     "text": [
      "\n",
      "\n",
      "\n",
      "\n",
      "\u001b[A\u001b[A\u001b[A\u001b[A██████████████████████████████████████████████████████████████████████████████████████████████████████████████████████████████████████▎                           | 107/128 [01:55<00:23,  1.12s/it]"
     ]
    },
    {
     "name": "stdout",
     "output_type": "stream",
     "text": [
      "iter #106 Loss: 0.302985006744789\n"
     ]
    },
    {
     "name": "stderr",
     "output_type": "stream",
     "text": [
      "\n",
      "\n",
      "\n",
      "\n",
      "\u001b[A\u001b[A\u001b[A\u001b[A███████████████████████████████████████████████████████████████████████████████████████████████████████████████████████████████████████▌                          | 108/128 [01:56<00:22,  1.10s/it]"
     ]
    },
    {
     "name": "stdout",
     "output_type": "stream",
     "text": [
      "iter #107 Loss: 0.3028814632464484\n"
     ]
    },
    {
     "name": "stderr",
     "output_type": "stream",
     "text": [
      "\n",
      "\n",
      "\n",
      "\n",
      "\u001b[A\u001b[A\u001b[A\u001b[A████████████████████████████████████████████████████████████████████████████████████████████████████████████████████████████████████████▉                         | 109/128 [01:57<00:20,  1.08s/it]"
     ]
    },
    {
     "name": "stdout",
     "output_type": "stream",
     "text": [
      "iter #108 Loss: 0.3028058523529677\n"
     ]
    },
    {
     "name": "stderr",
     "output_type": "stream",
     "text": [
      "\n",
      "\n",
      "\n",
      "\n",
      "\u001b[A\u001b[A\u001b[A\u001b[A██████████████████████████████████████████████████████████████████████████████████████████████████████████████████████████████████████████▏                       | 110/128 [01:58<00:19,  1.07s/it]"
     ]
    },
    {
     "name": "stdout",
     "output_type": "stream",
     "text": [
      "iter #109 Loss: 0.3025846192944171\n"
     ]
    },
    {
     "name": "stderr",
     "output_type": "stream",
     "text": [
      "\n",
      "\n",
      "\n",
      "\n",
      "\u001b[A\u001b[A\u001b[A\u001b[A███████████████████████████████████████████████████████████████████████████████████████████████████████████████████████████████████████████▌                      | 111/128 [01:59<00:17,  1.05s/it]"
     ]
    },
    {
     "name": "stdout",
     "output_type": "stream",
     "text": [
      "iter #110 Loss: 0.3023968815122764\n"
     ]
    },
    {
     "name": "stderr",
     "output_type": "stream",
     "text": [
      "\n",
      "\n",
      "\n",
      "\n",
      "\u001b[A\u001b[A\u001b[A\u001b[A████████████████████████████████████████████████████████████████████████████████████████████████████████████████████████████████████████████▉                     | 112/128 [02:00<00:16,  1.06s/it]"
     ]
    },
    {
     "name": "stdout",
     "output_type": "stream",
     "text": [
      "iter #111 Loss: 0.30245315922698396\n"
     ]
    },
    {
     "name": "stderr",
     "output_type": "stream",
     "text": [
      "\n",
      "\n",
      "\n",
      "\n",
      "\u001b[A\u001b[A\u001b[A\u001b[A██████████████████████████████████████████████████████████████████████████████████████████████████████████████████████████████████████████████▏                   | 113/128 [02:01<00:15,  1.07s/it]"
     ]
    },
    {
     "name": "stdout",
     "output_type": "stream",
     "text": [
      "iter #112 Loss: 0.3022996029310723\n"
     ]
    },
    {
     "name": "stderr",
     "output_type": "stream",
     "text": [
      "\n",
      "\n",
      "\n",
      "\n",
      "\u001b[A\u001b[A\u001b[A\u001b[A███████████████████████████████████████████████████████████████████████████████████████████████████████████████████████████████████████████████▌                  | 114/128 [02:02<00:14,  1.06s/it]"
     ]
    },
    {
     "name": "stdout",
     "output_type": "stream",
     "text": [
      "iter #113 Loss: 0.3022914653086118\n"
     ]
    },
    {
     "name": "stderr",
     "output_type": "stream",
     "text": [
      "\n",
      "\n",
      "\n",
      "\n",
      "\u001b[A\u001b[A\u001b[A\u001b[A████████████████████████████████████████████████████████████████████████████████████████████████████████████████████████████████████████████████▊                 | 115/128 [02:04<00:13,  1.06s/it]"
     ]
    },
    {
     "name": "stdout",
     "output_type": "stream",
     "text": [
      "iter #114 Loss: 0.30200212815691374\n"
     ]
    },
    {
     "name": "stderr",
     "output_type": "stream",
     "text": [
      "\n",
      "\n",
      "\n",
      "\n",
      "\u001b[A\u001b[A\u001b[A\u001b[A██████████████████████████████████████████████████████████████████████████████████████████████████████████████████████████████████████████████████▏               | 116/128 [02:05<00:12,  1.07s/it]"
     ]
    },
    {
     "name": "stdout",
     "output_type": "stream",
     "text": [
      "iter #115 Loss: 0.30189583297383965\n"
     ]
    },
    {
     "name": "stderr",
     "output_type": "stream",
     "text": [
      "\n",
      "\n",
      "\n",
      "\n",
      "\u001b[A\u001b[A\u001b[A\u001b[A███████████████████████████████████████████████████████████████████████████████████████████████████████████████████████████████████████████████████▍              | 117/128 [02:06<00:11,  1.05s/it]"
     ]
    },
    {
     "name": "stdout",
     "output_type": "stream",
     "text": [
      "iter #116 Loss: 0.301935656100209\n"
     ]
    },
    {
     "name": "stderr",
     "output_type": "stream",
     "text": [
      "\n",
      "\n",
      "\n",
      "\n",
      "\u001b[A\u001b[A\u001b[A\u001b[A████████████████████████████████████████████████████████████████████████████████████████████████████████████████████████████████████████████████████▊             | 118/128 [02:07<00:10,  1.08s/it]"
     ]
    },
    {
     "name": "stdout",
     "output_type": "stream",
     "text": [
      "iter #117 Loss: 0.30181403004275964\n"
     ]
    },
    {
     "name": "stderr",
     "output_type": "stream",
     "text": [
      "\n",
      "\n",
      "\n",
      "\n",
      "\u001b[A\u001b[A\u001b[A\u001b[A██████████████████████████████████████████████████████████████████████████████████████████████████████████████████████████████████████████████████████            | 119/128 [02:08<00:09,  1.10s/it]"
     ]
    },
    {
     "name": "stdout",
     "output_type": "stream",
     "text": [
      "iter #118 Loss: 0.3016064576615537\n"
     ]
    },
    {
     "name": "stderr",
     "output_type": "stream",
     "text": [
      "\n",
      "\n",
      "\n",
      "\n",
      "\u001b[A\u001b[A\u001b[A\u001b[A███████████████████████████████████████████████████████████████████████████████████████████████████████████████████████████████████████████████████████▍          | 120/128 [02:09<00:08,  1.09s/it]"
     ]
    },
    {
     "name": "stdout",
     "output_type": "stream",
     "text": [
      "iter #119 Loss: 0.3016098533865764\n"
     ]
    },
    {
     "name": "stderr",
     "output_type": "stream",
     "text": [
      "\n",
      "\n",
      "\n",
      "\n",
      "\u001b[A\u001b[A\u001b[A\u001b[A████████████████████████████████████████████████████████████████████████████████████████████████████████████████████████████████████████████████████████▊         | 121/128 [02:10<00:07,  1.07s/it]"
     ]
    },
    {
     "name": "stdout",
     "output_type": "stream",
     "text": [
      "iter #120 Loss: 0.3014693839598428\n"
     ]
    },
    {
     "name": "stderr",
     "output_type": "stream",
     "text": [
      "\n",
      "\n",
      "\n",
      "\n",
      "\u001b[A\u001b[A\u001b[A\u001b[A██████████████████████████████████████████████████████████████████████████████████████████████████████████████████████████████████████████████████████████        | 122/128 [02:11<00:06,  1.06s/it]"
     ]
    },
    {
     "name": "stdout",
     "output_type": "stream",
     "text": [
      "iter #121 Loss: 0.30128018143894103\n"
     ]
    },
    {
     "name": "stderr",
     "output_type": "stream",
     "text": [
      "\n",
      "\n",
      "\n",
      "\n",
      "\u001b[A\u001b[A\u001b[A\u001b[A███████████████████████████████████████████████████████████████████████████████████████████████████████████████████████████████████████████████████████████▍      | 123/128 [02:12<00:05,  1.05s/it]"
     ]
    },
    {
     "name": "stdout",
     "output_type": "stream",
     "text": [
      "iter #122 Loss: 0.30129087056378423\n"
     ]
    },
    {
     "name": "stderr",
     "output_type": "stream",
     "text": [
      "\n",
      "\n",
      "\n",
      "\n",
      "\u001b[A\u001b[A\u001b[A\u001b[A████████████████████████████████████████████████████████████████████████████████████████████████████████████████████████████████████████████████████████████▋     | 124/128 [02:13<00:04,  1.07s/it]"
     ]
    },
    {
     "name": "stdout",
     "output_type": "stream",
     "text": [
      "iter #123 Loss: 0.3011628991456201\n"
     ]
    },
    {
     "name": "stderr",
     "output_type": "stream",
     "text": [
      "\n",
      "\n",
      "\n",
      "\n",
      "\u001b[A\u001b[A\u001b[A\u001b[A██████████████████████████████████████████████████████████████████████████████████████████████████████████████████████████████████████████████████████████████    | 125/128 [02:14<00:03,  1.08s/it]"
     ]
    },
    {
     "name": "stdout",
     "output_type": "stream",
     "text": [
      "iter #124 Loss: 0.30120538385008194\n"
     ]
    },
    {
     "name": "stderr",
     "output_type": "stream",
     "text": [
      "\n",
      "\n",
      "\n",
      "\n",
      "\u001b[A\u001b[A\u001b[A\u001b[A███████████████████████████████████████████████████████████████████████████████████████████████████████████████████████████████████████████████████████████████▎  | 126/128 [02:15<00:02,  1.08s/it]"
     ]
    },
    {
     "name": "stdout",
     "output_type": "stream",
     "text": [
      "iter #125 Loss: 0.3009238020342014\n"
     ]
    },
    {
     "name": "stderr",
     "output_type": "stream",
     "text": [
      "\n",
      "\n",
      "\n",
      "\n",
      "\u001b[A\u001b[A\u001b[A\u001b[A████████████████████████████████████████████████████████████████████████████████████████████████████████████████████████████████████████████████████████████████▋ | 127/128 [02:16<00:01,  1.08s/it]"
     ]
    },
    {
     "name": "stdout",
     "output_type": "stream",
     "text": [
      "iter #126 Loss: 0.3008948089696732\n"
     ]
    },
    {
     "name": "stderr",
     "output_type": "stream",
     "text": [
      "\n",
      "\n",
      "\n",
      "\n",
      "100%|█████████████████████████████████████████████████████████████████████████████████████████████████████████████████████████████████████████████████████████████████████████| 128/128 [02:17<00:00,  1.08s/it]"
     ]
    },
    {
     "name": "stdout",
     "output_type": "stream",
     "text": [
      "iter #127 Loss: 0.30086155795506414\n"
     ]
    },
    {
     "name": "stderr",
     "output_type": "stream",
     "text": [
      "\n"
     ]
    }
   ],
   "source": [
    "from tqdm import tqdm \n",
    "\n",
    "for it in tqdm(range(num_epochs)):\n",
    "    losses = []\n",
    "    for x, y in train_loader:\n",
    "        if cuda:\n",
    "            x, y = x.cuda(), y.cuda()\n",
    "        optimizer.zero_grad()\n",
    "        outputs = model(x)\n",
    "        loss = loss_fn(outputs.squeeze(), y.type(torch.float32))\n",
    "        losses.append(loss.item())\n",
    "        loss.backward()\n",
    "        optimizer.step()\n",
    "    print(\"iter #{}\".format(it), \"Loss:\", sum(losses) / len(losses))\n"
   ]
  },
  {
   "cell_type": "code",
   "execution_count": 32,
   "id": "889bdcde-bd32-4f39-a45e-42d0c6a5f9e7",
   "metadata": {},
   "outputs": [
    {
     "name": "stdout",
     "output_type": "stream",
     "text": [
      "user_factors.weight tensor([[ 1.1267,  1.5610,  1.5968,  ...,  0.4851,  1.0235,  0.7394],\n",
      "        [ 1.1193,  2.0490,  0.0356,  ...,  1.0188,  0.4372,  1.1902],\n",
      "        [ 0.7367,  1.8155,  1.3284,  ...,  2.0869, -2.3494,  0.3161],\n",
      "        ...,\n",
      "        [ 1.6868,  0.2823,  0.5313,  ...,  1.6125,  1.2129, -0.5139],\n",
      "        [ 1.5355,  0.7007,  1.2334,  ...,  0.2577,  0.6127,  1.1014],\n",
      "        [ 1.0896,  1.4784,  1.4460,  ...,  1.0787,  0.6065,  0.8787]])\n",
      "item_factors.weight tensor([[ 0.2224,  0.7647,  0.6119,  ...,  0.3477,  0.7031,  0.4358],\n",
      "        [ 0.6432,  0.2322,  0.1682,  ..., -0.0184,  0.3461,  0.5648],\n",
      "        [ 0.5105,  0.6172,  0.7974,  ...,  0.3648,  0.2195,  0.3756],\n",
      "        ...,\n",
      "        [ 0.3694,  0.3652,  0.3834,  ...,  0.3830,  0.4001,  0.4039],\n",
      "        [ 0.4416,  0.4219,  0.4402,  ...,  0.4525,  0.4428,  0.4216],\n",
      "        [ 0.4573,  0.4241,  0.4419,  ...,  0.4424,  0.4451,  0.4404]])\n"
     ]
    }
   ],
   "source": [
    "c = 0\n",
    "uw = 0\n",
    "iw = 0 \n",
    "for name, param in model.named_parameters():\n",
    "    if param.requires_grad:\n",
    "        print(name, param.data)\n",
    "        if c == 0:\n",
    "          uw = param.data\n",
    "          c +=1\n",
    "        else:\n",
    "          iw = param.data"
   ]
  },
  {
   "cell_type": "code",
   "execution_count": 33,
   "id": "65be9895-71ad-4261-a78d-84e3a3c51700",
   "metadata": {},
   "outputs": [],
   "source": [
    "trained_movie_embeddings = model.item_factors.weight.data.cpu().numpy()"
   ]
  },
  {
   "cell_type": "code",
   "execution_count": 34,
   "id": "f7205af0-cd07-4a43-ba40-68dfed7d2fec",
   "metadata": {},
   "outputs": [
    {
     "data": {
      "text/plain": [
       "9724"
      ]
     },
     "execution_count": 34,
     "metadata": {},
     "output_type": "execute_result"
    }
   ],
   "source": [
    "len(trained_movie_embeddings)"
   ]
  },
  {
   "cell_type": "code",
   "execution_count": 35,
   "id": "77fd0623-e25d-4a74-a12f-bee4912a9060",
   "metadata": {},
   "outputs": [],
   "source": [
    "from sklearn.cluster import KMeans\n",
    "kmeans = KMeans(n_clusters=10, random_state=0).fit(trained_movie_embeddings)"
   ]
  },
  {
   "cell_type": "code",
   "execution_count": 36,
   "id": "1012f9c5-96c6-410a-addb-a5d9c3b68c83",
   "metadata": {},
   "outputs": [
    {
     "name": "stdout",
     "output_type": "stream",
     "text": [
      "Cluster #0\n",
      "\t Twister (1996)\n",
      "\t Home Alone (1990)\n",
      "\t Fifth Element, The (1997)\n",
      "\t Harry Potter and the Chamber of Secrets (2002)\n",
      "\t Harry Potter and the Prisoner of Azkaban (2004)\n",
      "\t Star Trek: First Contact (1996)\n",
      "\t Back to the Future Part II (1989)\n",
      "\t Broken Arrow (1996)\n",
      "\t Nutty Professor, The (1996)\n",
      "\t Mr. Holland's Opus (1995)\n",
      "Cluster #1\n",
      "\t Batman Forever (1995)\n",
      "\t Mission: Impossible II (2000)\n",
      "\t Honey, I Shrunk the Kids (1989)\n",
      "\t Hot Shots! Part Deux (1993)\n",
      "\t Space Jam (1996)\n",
      "\t Johnny Mnemonic (1995)\n",
      "\t Arachnophobia (1990)\n",
      "\t Father of the Bride Part II (1995)\n",
      "\t Nine Months (1995)\n",
      "\t Mortal Kombat (1995)\n",
      "Cluster #2\n",
      "\t Star Wars: Episode I - The Phantom Menace (1999)\n",
      "\t Four Weddings and a Funeral (1994)\n",
      "\t Star Wars: Episode II - Attack of the Clones (2002)\n",
      "\t Matrix Revolutions, The (2003)\n",
      "\t Scream (1996)\n",
      "\t Dead Man Walking (1995)\n",
      "\t Sense and Sensibility (1995)\n",
      "\t Mask of Zorro, The (1998)\n",
      "\t A.I. Artificial Intelligence (2001)\n",
      "\t Moulin Rouge (2001)\n",
      "Cluster #3\n",
      "\t Terminator 2: Judgment Day (1991)\n",
      "\t Terminator, The (1984)\n",
      "\t Outbreak (1995)\n",
      "\t Matrix Reloaded, The (2003)\n",
      "\t Starship Troopers (1997)\n",
      "\t Star Wars: Episode III - Revenge of the Sith (2005)\n",
      "\t Blair Witch Project, The (1999)\n",
      "\t Signs (2002)\n",
      "\t Judge Dredd (1995)\n",
      "\t Predator (1987)\n",
      "Cluster #4\n",
      "\t Avatar (2009)\n",
      "\t Liar Liar (1997)\n",
      "\t Charlie's Angels (2000)\n",
      "\t Austin Powers in Goldmember (2002)\n",
      "\t Eraser (1996)\n",
      "\t Coneheads (1993)\n",
      "\t Chronicles of Narnia: The Lion, the Witch and the Wardrobe, The (2005)\n",
      "\t Piano, The (1993)\n",
      "\t Men in Black II (a.k.a. MIIB) (a.k.a. MIB 2) (2002)\n",
      "\t Love Actually (2003)\n",
      "Cluster #5\n",
      "\t Forrest Gump (1994)\n",
      "\t Shawshank Redemption, The (1994)\n",
      "\t Silence of the Lambs, The (1991)\n",
      "\t Matrix, The (1999)\n",
      "\t Jurassic Park (1993)\n",
      "\t Braveheart (1995)\n",
      "\t Fight Club (1999)\n",
      "\t Toy Story (1995)\n",
      "\t Star Wars: Episode V - The Empire Strikes Back (1980)\n",
      "\t Usual Suspects, The (1995)\n",
      "Cluster #6\n",
      "\t Mission: Impossible (1996)\n",
      "\t Waterworld (1995)\n",
      "\t Net, The (1995)\n",
      "\t Armageddon (1998)\n",
      "\t Top Gun (1986)\n",
      "\t Grease (1978)\n",
      "\t Enemy of the State (1998)\n",
      "\t Lost World: Jurassic Park, The (1997)\n",
      "\t Legally Blonde (2001)\n",
      "\t Miss Congeniality (2000)\n",
      "Cluster #7\n",
      "\t Pulp Fiction (1994)\n",
      "\t American Beauty (1999)\n",
      "\t Fargo (1996)\n",
      "\t Memento (2000)\n",
      "\t Monty Python and the Holy Grail (1975)\n",
      "\t One Flew Over the Cuckoo's Nest (1975)\n",
      "\t Kill Bill: Vol. 1 (2003)\n",
      "\t Eternal Sunshine of the Spotless Mind (2004)\n",
      "\t Blade Runner (1982)\n",
      "\t Clockwork Orange, A (1971)\n",
      "Cluster #8\n",
      "\t Star Wars: Episode IV - A New Hope (1977)\n",
      "\t Schindler's List (1993)\n",
      "\t Fugitive, The (1993)\n",
      "\t Back to the Future (1985)\n",
      "\t Beauty and the Beast (1991)\n",
      "\t E.T. the Extra-Terrestrial (1982)\n",
      "\t Casablanca (1942)\n",
      "\t Wizard of Oz, The (1939)\n",
      "\t Big (1988)\n",
      "\t Back to the Future Part III (1990)\n",
      "Cluster #9\n",
      "\t Ace Ventura: Pet Detective (1994)\n",
      "\t Dumb & Dumber (Dumb and Dumber) (1994)\n",
      "\t Austin Powers: The Spy Who Shagged Me (1999)\n",
      "\t Ace Ventura: When Nature Calls (1995)\n",
      "\t Mummy, The (1999)\n",
      "\t Spaceballs (1987)\n",
      "\t Blade (1998)\n",
      "\t Chasing Amy (1997)\n",
      "\t Billy Madison (1995)\n",
      "\t Mad Max: Fury Road (2015)\n"
     ]
    }
   ],
   "source": [
    "for cluster in range(10):\n",
    "    print(\"Cluster #{}\".format(cluster))\n",
    "    movs = []\n",
    "    for movidx in np.where(kmeans.labels_ == cluster)[0]:\n",
    "        movid = train_set.idx2movieid[movidx]\n",
    "        rat_count = len(ratings_df.loc[ratings_df['movieId'] == movid])\n",
    "        movs.append((movie_names[movid], rat_count))\n",
    "    for mov in sorted(movs, key=lambda tup: tup[1], reverse=True)[:10]:\n",
    "        print(\"\\t\", mov[0])"
   ]
  },
  {
   "cell_type": "code",
   "execution_count": null,
   "id": "1b43a464-4605-4e31-a061-db02f7c52ed5",
   "metadata": {},
   "outputs": [],
   "source": []
  }
 ],
 "metadata": {
  "kernelspec": {
   "display_name": "Python 3 (ipykernel)",
   "language": "python",
   "name": "python3"
  },
  "language_info": {
   "codemirror_mode": {
    "name": "ipython",
    "version": 3
   },
   "file_extension": ".py",
   "mimetype": "text/x-python",
   "name": "python",
   "nbconvert_exporter": "python",
   "pygments_lexer": "ipython3",
   "version": "3.12.5"
  }
 },
 "nbformat": 4,
 "nbformat_minor": 5
}
